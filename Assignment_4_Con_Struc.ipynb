{
 "cells": [
  {
   "cell_type": "markdown",
   "metadata": {},
   "source": [
    "# Conditional Structure Assignment"
   ]
  },
  {
   "cell_type": "markdown",
   "metadata": {},
   "source": [
    "1. Write a program that prompts the user to input a number and display if the number\n",
    "is even or odd."
   ]
  },
  {
   "cell_type": "code",
   "execution_count": 8,
   "metadata": {},
   "outputs": [
    {
     "name": "stdout",
     "output_type": "stream",
     "text": [
      "The 3 is Odd\n"
     ]
    }
   ],
   "source": [
    "number = int(input(\"Enter the Number: \"))\n",
    "\n",
    "if number%2 == 0:\n",
    "    print(f\"The {number} is Even\")\n",
    "else:\n",
    "    print(f\"The {number} is Odd\")"
   ]
  },
  {
   "cell_type": "markdown",
   "metadata": {},
   "source": [
    "2. Write a Python program that takes an age as input and determines whether a person\n",
    "is eligible to vote. If the age is 18 or above, print \"You are eligible to vote.\" Otherwise,\n",
    "print \"You are not eligible to vote yet.\"."
   ]
  },
  {
   "cell_type": "code",
   "execution_count": 10,
   "metadata": {},
   "outputs": [
    {
     "name": "stdout",
     "output_type": "stream",
     "text": [
      "Yor are eligible to vote\n"
     ]
    }
   ],
   "source": [
    "age = int(input(\"Enter the Age: \"))\n",
    "\n",
    "if age >= 18:\n",
    "    print(\"Yor are eligible to vote\")\n",
    "else:\n",
    "    print(\"You are not eligible to vote yet\")"
   ]
  },
  {
   "cell_type": "markdown",
   "metadata": {},
   "source": [
    "3. Write a program that prompts the user to input two integers and outputs the largest."
   ]
  },
  {
   "cell_type": "code",
   "execution_count": 12,
   "metadata": {},
   "outputs": [
    {
     "name": "stdout",
     "output_type": "stream",
     "text": [
      "The Larger Number is 6\n"
     ]
    }
   ],
   "source": [
    "num1 = int(input(\"Enter the First Number: \"))\n",
    "num2 = int(input(\"Enter the Second Number: \"))\n",
    "\n",
    "if num1 > num2:\n",
    "    print(f\"The larger number is {num1}\")\n",
    "elif num2 > num1:\n",
    "    print(f\"The Larger Number is {num2}\")\n",
    "else:\n",
    "    print(\"Both are Equals\")"
   ]
  },
  {
   "cell_type": "markdown",
   "metadata": {},
   "source": [
    "4. Write a program that prompts the user to enter a number and determines whether it is positive, negative, or zero. The program should print \"Positive\" if the number is greater than 0, \"Negative\" if the number is less than 0, and \"Zero\" if the number is 0."
   ]
  },
  {
   "cell_type": "code",
   "execution_count": 15,
   "metadata": {},
   "outputs": [
    {
     "name": "stdout",
     "output_type": "stream",
     "text": [
      "THe Number is zero\n"
     ]
    }
   ],
   "source": [
    "number = float(input(\"Enter the Nunber: \"))\n",
    "\n",
    "if number > 0:\n",
    "    print(\"The Number is Positive\")\n",
    "elif number < 0:\n",
    "    print(\"The Number is Negative\")\n",
    "else:\n",
    "    print(\"THe Number is zero\")"
   ]
  },
  {
   "cell_type": "markdown",
   "metadata": {},
   "source": [
    "5. Write a program that prompts the user to enter their age and prints the corresponding age group. The program should use the following age groups:\n",
    "\n",
    "0-12: Child\n",
    "\n",
    "13-19: Teenager\n",
    "\n",
    "20-59: Adult\n",
    "\n",
    "60 and above: Senior Citizen"
   ]
  },
  {
   "cell_type": "code",
   "execution_count": 16,
   "metadata": {},
   "outputs": [
    {
     "name": "stdout",
     "output_type": "stream",
     "text": [
      "You are a Adult\n"
     ]
    }
   ],
   "source": [
    "age = int(input(\"Enter the Age: \"))\n",
    "\n",
    "if 0 <= age <= 12:\n",
    "    print(\"You are a Child\")\n",
    "elif 13 <= age <=19:\n",
    "    print(\"You are a Teenager\")\n",
    "elif 20 <= age <=59:\n",
    "    print(\"You are a Adult\")\n",
    "else:\n",
    "    print(\"You are Senior Citizen\")"
   ]
  },
  {
   "cell_type": "markdown",
   "metadata": {},
   "source": [
    "6. Write a program that prompts the user to input a number from 1 to 7. The program should display the corresponding day for the given number. For example, if the user types 1, the output should be Sunday. If the user types 7, the output should be Saturday. If the number is not between 1 to 7 user should get error message as shown in sample output."
   ]
  },
  {
   "cell_type": "code",
   "execution_count": 17,
   "metadata": {},
   "outputs": [
    {
     "name": "stdout",
     "output_type": "stream",
     "text": [
      "Error! Plz enter a num b/w 1 to 7\n"
     ]
    }
   ],
   "source": [
    "number = int(input(\"Enter the Number: \"))\n",
    "\n",
    "days = {\n",
    "    1: \"Sunday\",\n",
    "    2: \"Monday\",\n",
    "    3: \"Tuesday\",\n",
    "    4: \"Wednesday\",\n",
    "    5: \"Thursday\",\n",
    "    6: \"Friday\",\n",
    "    7: \"Saturday\"\n",
    "}\n",
    "\n",
    "if number in days:\n",
    "    print(f\"The day is {days[number]}\")\n",
    "else:\n",
    "    print(\"Error! Plz enter a num b/w 1 to 7\")"
   ]
  },
  {
   "cell_type": "markdown",
   "metadata": {},
   "source": [
    "7. Write a program that prompts the user to enter their weight (in kilograms) and height (in meters). The program should calculate the Body Mass Index (BMI)\n",
    "\n",
    "using the formula:\n",
    "\n",
    "BMI = weight / (height * height). The program should then classify the BMI into one of the following categories:\n",
    "\n",
    "less than 18.5 - Underweight\n",
    "\n",
    "BMI between 18.5 and 24.9 - Normal weight\n",
    "\n",
    "BMI between 25 and 29.9 - Overweight\n",
    "\n",
    "BMI 30 or greater - Obesity"
   ]
  },
  {
   "cell_type": "code",
   "execution_count": 18,
   "metadata": {},
   "outputs": [
    {
     "name": "stdout",
     "output_type": "stream",
     "text": [
      "Your BMI is 0.25. You are Underweight.\n"
     ]
    }
   ],
   "source": [
    "weight = float(input(\"Enter your weight in kilograms: \"))\n",
    "height = float(input(\"Enter your height in meters: \"))\n",
    "\n",
    "bmi = weight / (height ** 2)\n",
    "\n",
    "if bmi < 18.5:\n",
    "    print(f\"Your BMI is {bmi:.2f}. You are Underweight.\")\n",
    "elif 18.5 <= bmi <= 24.9:\n",
    "    print(f\"Your BMI is {bmi:.2f}. You have Normal weight.\")\n",
    "elif 25 <= bmi <= 29.9:\n",
    "    print(f\"Your BMI is {bmi:.2f}. You are Overweight.\")\n",
    "else:\n",
    "    print(f\"Your BMI is {bmi:.2f}. You are in the Obesity category.\")\n"
   ]
  },
  {
   "cell_type": "markdown",
   "metadata": {},
   "source": [
    "8. The marks obtained by a student in 3 different subjects are input by the user. Your program should calculate the average of subjects and display the grade. The student gets a grade as per the following rules:\n",
    "\n",
    "Average Grade\n",
    "\n",
    "90-100 A\n",
    "\n",
    "80-89 B\n",
    "\n",
    "70-79 C\n",
    "\n",
    "60-69 D\n",
    "0-59 F\n"
   ]
  },
  {
   "cell_type": "markdown",
   "metadata": {},
   "source": []
  },
  {
   "cell_type": "code",
   "execution_count": 4,
   "metadata": {},
   "outputs": [
    {
     "name": "stdout",
     "output_type": "stream",
     "text": [
      "Your Average Marks are 74.0 and Your Grade is C\n"
     ]
    }
   ],
   "source": [
    "sub_1 = float(input(\"Enter the Marks: \"))\n",
    "sub_2 = float(input(\"Enter the Marks: \"))\n",
    "sub_3 = float(input(\"Enter the Marks: \"))\n",
    "\n",
    "avg = (sub_1+sub_2+sub_3)/3\n",
    "\n",
    "if 90 <= avg <= 100:\n",
    "    grade = 'A'\n",
    "elif 80 <= avg < 89:\n",
    "    grade = 'B'\n",
    "elif 70 <= avg < 79:\n",
    "    grade = 'C'\n",
    "elif 60 <= avg < 69:\n",
    "    grade = 'D'\n",
    "else:\n",
    "    grade = 'F'\n",
    "\n",
    "if grade != \"Invalid Marks Entered\":\n",
    "    print(f\"Your Average Marks are {avg} and Your Grade is {grade}\")\n",
    "else:\n",
    "    print(grade)"
   ]
  },
  {
   "cell_type": "markdown",
   "metadata": {},
   "source": [
    "9. The roots of the quadratic equation ax2 + bx + c = 0, a ≠ 0 are given by the following\n",
    "\n",
    "formula:\n",
    "\n",
    "In this formula, the term b2\n",
    "\n",
    "- 4ac is called the discriminant. If b2\n",
    "\n",
    "- 4ac = 0, then the equation has two equal roots.\n",
    "\n",
    "If b2\n",
    "- 4ac > 0, the equation has two real roots. If b2\n",
    "\n",
    "- 4ac < 0, the equation has two\n",
    "\n",
    "complex roots.\n",
    "\n",
    "Write a program that prompts the user to input the value of a (the coefficient of x2), b (the coefficient of x), and c (the constant term) and outputs the roots of the quadratic equation.\n"
   ]
  },
  {
   "cell_type": "code",
   "execution_count": null,
   "metadata": {},
   "outputs": [],
   "source": []
  },
  {
   "cell_type": "markdown",
   "metadata": {},
   "source": [
    "10. Write a program that prompts the user to enter three numbers and sorts them in ascending order. The program should print the sorted numbers."
   ]
  },
  {
   "cell_type": "code",
   "execution_count": 11,
   "metadata": {},
   "outputs": [
    {
     "ename": "TypeError",
     "evalue": "unhashable type: 'list'",
     "output_type": "error",
     "traceback": [
      "\u001b[1;31m---------------------------------------------------------------------------\u001b[0m",
      "\u001b[1;31mTypeError\u001b[0m                                 Traceback (most recent call last)",
      "Cell \u001b[1;32mIn[11], line 9\u001b[0m\n\u001b[0;32m      5\u001b[0m nums \u001b[38;5;241m=\u001b[39m [num1, num2, num3]\n\u001b[0;32m      7\u001b[0m nums\u001b[38;5;241m.\u001b[39msort()\n\u001b[1;32m----> 9\u001b[0m \u001b[38;5;28mprint\u001b[39m(\u001b[38;5;124m\"\u001b[39m\u001b[38;5;124mThe Numbers Sort in ascending order is:\u001b[39m\u001b[38;5;124m\"\u001b[39m,{nums})\n",
      "\u001b[1;31mTypeError\u001b[0m: unhashable type: 'list'"
     ]
    }
   ],
   "source": [
    "num1 = float(input(\"Enter the first number: \"))\n",
    "num2 = float(input(\"Enter the second number: \"))\n",
    "num3 = float(input(\"Enter the third number: \"))\n",
    "\n",
    "nums = [num1, num2, num3]\n",
    "\n",
    "nums.sort()\n",
    "\n",
    "print(\"The Numbers Sort in ascending order is:\",{nums})"
   ]
  },
  {
   "cell_type": "markdown",
   "metadata": {},
   "source": [
    "11. Write a program that prompts the user to input three integers and outputs the\n",
    "largest."
   ]
  },
  {
   "cell_type": "code",
   "execution_count": 12,
   "metadata": {},
   "outputs": [
    {
     "name": "stdout",
     "output_type": "stream",
     "text": [
      "The Largest Number is: {6.0}\n"
     ]
    }
   ],
   "source": [
    "num1 = float(input(\"Enter the first number: \"))\n",
    "num2 = float(input(\"Enter the second number: \"))\n",
    "num3 = float(input(\"Enter the third number: \"))\n",
    "\n",
    "lar = max(num1, num2, num3)\n",
    "\n",
    "print(\"The Largest Number is:\",{lar})"
   ]
  },
  {
   "cell_type": "markdown",
   "metadata": {},
   "source": [
    "12. Write a program that prompts the user to input a character and determine the\n",
    "character is vowel or consonant."
   ]
  },
  {
   "cell_type": "code",
   "execution_count": 13,
   "metadata": {},
   "outputs": [
    {
     "name": "stderr",
     "output_type": "stream",
     "text": [
      "<>:3: SyntaxWarning: \"is\" with 'str' literal. Did you mean \"==\"?\n",
      "<>:3: SyntaxWarning: \"is\" with 'str' literal. Did you mean \"==\"?\n"
     ]
    },
    {
     "name": "stdout",
     "output_type": "stream",
     "text": [
      "The Character 'fgtewgfuwekfwefuhk' is consonant\n"
     ]
    },
    {
     "name": "stderr",
     "output_type": "stream",
     "text": [
      "C:\\Users\\RS Computers\\AppData\\Local\\Temp\\ipykernel_6344\\3401892835.py:3: SyntaxWarning: \"is\" with 'str' literal. Did you mean \"==\"?\n",
      "  if user is 'aeiou':\n"
     ]
    }
   ],
   "source": [
    "user = input(\"Enter the Input: \")\n",
    "\n",
    "if user is 'aeiou':\n",
    "    print(f\"The Character '{user}' is vowel\")\n",
    "elif user.isalpha():\n",
    "    print(f\"The Character '{user}' is consonant\")\n",
    "else:\n",
    "    print(f\"The Character '{user}' is not a valid alphabet\")"
   ]
  },
  {
   "cell_type": "markdown",
   "metadata": {},
   "source": [
    "13. Write a program that prompts the user to input a year and determine whether the year is a leap year or not. Leap Years are any year that can be evenly divided by 4. A year that is evenly divisible by 100 is a leap year only if it is also evenly divisible by 400. Example:\n",
    "\n",
    "1992 Leap Year\n",
    "\n",
    "2000 Leap Year\n",
    "\n",
    "1900 NOT a Leap Year\n",
    "\n",
    "1995 NOT a Leap Year"
   ]
  },
  {
   "cell_type": "code",
   "execution_count": 18,
   "metadata": {},
   "outputs": [
    {
     "name": "stdout",
     "output_type": "stream",
     "text": [
      "2004 is not a leap year\n"
     ]
    }
   ],
   "source": [
    "year = int(input(\"Enter a Year: \"))\n",
    "\n",
    "if (year % 4 == 0 and year % 100 == 0) or (year % 400 == 0):\n",
    "    print(f\"{year} is a leap year\")\n",
    "else:\n",
    "    print(f\"{year} is not a leap year\")"
   ]
  },
  {
   "cell_type": "markdown",
   "metadata": {},
   "source": [
    "14. Write a program that prompts the user to input number of calls and calculate the monthly telephone bills as per the following rule:\n",
    "\n",
    "Minimum Rs. 200 for up to 100 calls.\n",
    "\n",
    "Plus Rs. 0.60 per call for next 50 calls.\n",
    "\n",
    "Plus Rs. 0.50 per call for next 50 calls.\n",
    "\n",
    "Plus Rs. 0.40 per call for any call beyond 200 calls."
   ]
  },
  {
   "cell_type": "code",
   "execution_count": 21,
   "metadata": {},
   "outputs": [
    {
     "name": "stderr",
     "output_type": "stream",
     "text": [
      "<>:10: SyntaxWarning: 'float' object is not callable; perhaps you missed a comma?\n",
      "<>:10: SyntaxWarning: 'float' object is not callable; perhaps you missed a comma?\n"
     ]
    },
    {
     "name": "stdout",
     "output_type": "stream",
     "text": [
      "Your Monthly Telephone Bill is Rs.230.0\n"
     ]
    },
    {
     "name": "stderr",
     "output_type": "stream",
     "text": [
      "C:\\Users\\RS Computers\\AppData\\Local\\Temp\\ipykernel_6344\\654031203.py:10: SyntaxWarning: 'float' object is not callable; perhaps you missed a comma?\n",
      "  bill = 200 + 50 * 0.60 + 50 * 0.50 (num_of_calls - 200) * 0.40\n"
     ]
    }
   ],
   "source": [
    "num_of_calls = float(input(\"Enter the Number of calls: \"))\n",
    "\n",
    "if num_of_calls <= 100:\n",
    "    bill = 100\n",
    "elif num_of_calls <= 150:\n",
    "    bill = 200 + (num_of_calls - 100) * 0.60\n",
    "elif num_of_calls <= 200:\n",
    "    bill = 200 + 50 * 0.60 + (num_of_calls - 150) * 0.50\n",
    "else:\n",
    "    bill = 200 + 50 * 0.60 + 50 * 0.50 (num_of_calls - 200) * 0.40\n",
    "\n",
    "print(f\"Your Monthly Telephone Bill is Rs.{bill}\")"
   ]
  }
 ],
 "metadata": {
  "kernelspec": {
   "display_name": "Python 3",
   "language": "python",
   "name": "python3"
  },
  "language_info": {
   "codemirror_mode": {
    "name": "ipython",
    "version": 3
   },
   "file_extension": ".py",
   "mimetype": "text/x-python",
   "name": "python",
   "nbconvert_exporter": "python",
   "pygments_lexer": "ipython3",
   "version": "3.13.0"
  }
 },
 "nbformat": 4,
 "nbformat_minor": 2
}

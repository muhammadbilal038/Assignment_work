{
 "cells": [
  {
   "cell_type": "markdown",
   "metadata": {},
   "source": [
    "# OOP_Assignment "
   ]
  },
  {
   "cell_type": "markdown",
   "metadata": {},
   "source": [
    "1. Write a Python program to create a class called \"Person\" with properties for \n",
    "name, age and country. Include a method to display the person's details. Create \n",
    "two instances of the 'Person' class and display their details."
   ]
  },
  {
   "cell_type": "code",
   "execution_count": 1,
   "metadata": {},
   "outputs": [
    {
     "name": "stdout",
     "output_type": "stream",
     "text": [
      "Name: Bilal, Age: 22, Country: Pakistan\n",
      "Name: Sameen, Age: 22, Country: Pakistan\n"
     ]
    }
   ],
   "source": [
    "class person:\n",
    "    def __init__(self,name,age,country):\n",
    "        self.name = name\n",
    "        self.age = age\n",
    "        self.country = country\n",
    "    def details(self):\n",
    "        print(f\"Name: {self.name}, Age: {self.age}, Country: {self.country}\")\n",
    "\n",
    "person1 = person(\"Bilal\", 22, \"Pakistan\")\n",
    "person2 = person(\"Sameen\", 22, \"Pakistan\")\n",
    "\n",
    "person1.details()\n",
    "person2.details()"
   ]
  },
  {
   "cell_type": "markdown",
   "metadata": {},
   "source": [
    "2. Write a Python program to create a class called 'Rectangle' with properties for width and height. Include two methods to calculate rectangle area and perimeter. Create an instance of the 'Rectangle' class and calculate its area and perimeter."
   ]
  },
  {
   "cell_type": "code",
   "execution_count": 7,
   "metadata": {},
   "outputs": [
    {
     "name": "stdout",
     "output_type": "stream",
     "text": [
      "Area: 50\n",
      "Perimeter 30\n"
     ]
    }
   ],
   "source": [
    "class rectangle():\n",
    "    def __init__(self, width, height):\n",
    "        self.width = width\n",
    "        self.height = height\n",
    "\n",
    "    def cal_area(self):\n",
    "        return self.width*self.height\n",
    "    \n",
    "    def cal_perimeter(self):\n",
    "        return 2*(self.width + self.height)\n",
    "\n",
    "rectangle = rectangle(10, 5)\n",
    "\n",
    "print(\"Area:\", rectangle.cal_area())\n",
    "print(\"Perimeter\", rectangle.cal_perimeter())"
   ]
  },
  {
   "cell_type": "markdown",
   "metadata": {},
   "source": [
    "3. Write a Python program that creates a class called 'Vehicle' with properties for \n",
    "make, model, and year. Include a method to display vehicle details. Create a \n",
    "subclass called 'Car' that inherits from the 'Vehicle' class and includes an \n",
    "additional property for the number of doors. Override the display method to \n",
    "include the number of doors."
   ]
  },
  {
   "cell_type": "code",
   "execution_count": 9,
   "metadata": {},
   "outputs": [
    {
     "name": "stdout",
     "output_type": "stream",
     "text": [
      "Make: Toyota, Model: Swift, Year: 2022\n",
      "Number of Doors: 4\n"
     ]
    }
   ],
   "source": [
    "class vehicle():\n",
    "    def __init__(self,make,model,year):\n",
    "        self.make = make\n",
    "        self.model = model\n",
    "        self.year = year\n",
    "    def details(self):\n",
    "        print(f\"Make: {self.make}, Model: {self.model}, Year: {self.year}\")\n",
    "\n",
    "class car(vehicle):\n",
    "    def __init__(self,make,model,year,door):\n",
    "        super().__init__(make,model,year)\n",
    "        self.door = door\n",
    "\n",
    "    def details(self):\n",
    "        super().details()\n",
    "        print(f\"Number of Doors: {self.door}\")\n",
    "\n",
    "car = car(\"Toyota\", \"Swift\", 2022, 4)\n",
    "\n",
    "car.details()"
   ]
  },
  {
   "cell_type": "markdown",
   "metadata": {},
   "source": [
    "4. Write a Python program that creates a class called \"BankAccount\" with properties for account number and balance. Include methods to deposit and withdraw money from the account. Create some instances of the \"BankAccount\" class, deposit some money, and withdraw a portion of it."
   ]
  },
  {
   "cell_type": "code",
   "execution_count": 11,
   "metadata": {},
   "outputs": [
    {
     "name": "stdout",
     "output_type": "stream",
     "text": [
      "Deposited $150. Balance: $150\n",
      "Withdrawal $100. New Balance $1050\n",
      "Deposited $300. Balance: $300\n",
      "Withdrawal $150. New Balance $2150\n",
      "Account1 Balance: 1050\n",
      "Account2 Balance: 2150\n"
     ]
    }
   ],
   "source": [
    "class BankAccount():\n",
    "    def __init__(self,acc_num,balance):\n",
    "        self.acc_num = acc_num\n",
    "        self.balance = balance\n",
    "    \n",
    "    def deposit(self, amount):\n",
    "        if amount > 0:\n",
    "            self.balance += amount\n",
    "            print(f\"Deposited ${amount}. Balance: ${amount}\")\n",
    "        else:\n",
    "          print(\"Deposit amount must be positive\")\n",
    "    \n",
    "    def withdraw(self, amount):\n",
    "        if amount > 0:\n",
    "            if amount <= self.balance:\n",
    "              self.balance -= amount\n",
    "              print(f\"Withdrawal ${amount}. New Balance ${self.balance}\")\n",
    "            else:\n",
    "                print(\"Insufficient Funds\")\n",
    "        else:\n",
    "            print(\"Withdrawal amount must be positive\")\n",
    "    \n",
    "    def get_balance(self):\n",
    "        return self.balance\n",
    "    \n",
    "acc1 = BankAccount(1234, 1000)\n",
    "acc2 = BankAccount(0000, 2000)\n",
    "\n",
    "acc1.deposit(150)\n",
    "acc1.withdraw(100)\n",
    "acc2.deposit(300)\n",
    "acc2.withdraw(150)\n",
    "\n",
    "print(f\"Account1 Balance: {acc1.get_balance()}\")\n",
    "print(f\"Account2 Balance: {acc2.get_balance()}\")"
   ]
  },
  {
   "cell_type": "markdown",
   "metadata": {},
   "source": [
    "5. Write a Python program that creates a class called 'Shape' with a method to calculate the area. Create two subclasses, 'Circle' and 'Triangle', that inherit from the 'Shape' class and override the area calculation method. Create an instance of the 'Circle' class and calculate its area. Similarly, do the same for the 'Triangle' class."
   ]
  },
  {
   "cell_type": "code",
   "execution_count": 1,
   "metadata": {},
   "outputs": [
    {
     "name": "stdout",
     "output_type": "stream",
     "text": [
      "The area of the circle with radius 5 is 78.55\n",
      "The area of the triangle with base 10 and 5 is 25.00\n"
     ]
    }
   ],
   "source": [
    "class Shape():\n",
    "    def cal_area(self):      \n",
    "      raise NotImplementedError(\"This method should be overridden by subclasses.\")\n",
    "\n",
    "class Circle(Shape):\n",
    "    def __init__(self, radius):\n",
    "        self.radius = radius\n",
    "    \n",
    "    def cal_area(self):\n",
    "        pi = 3.142\n",
    "        return pi * (self.radius ** 2)\n",
    "\n",
    "class Triangle(Shape):\n",
    "    def __init__(self, base,height):\n",
    "        self.base = base\n",
    "        self.height = height\n",
    "\n",
    "    def cal_area(self):\n",
    "        return 0.5 * self.base * self.height\n",
    "    \n",
    "circle = Circle(radius=5)\n",
    "cir_area = circle.cal_area()\n",
    "print(f\"The area of the circle with radius {circle.radius} is {cir_area:.2f}\")\n",
    "\n",
    "triangle = Triangle(base=10, height=5)\n",
    "tri_area = triangle.cal_area()\n",
    "print(f\"The area of the triangle with base {triangle.base} and {triangle.height} is {tri_area:.2f}\")"
   ]
  },
  {
   "cell_type": "markdown",
   "metadata": {},
   "source": [
    "\n",
    "6. Write a Python program that creates a class called 'Employee' with properties for name and salary. Include a method to calculate annual salary. Create a subclass called 'Manager' that inherits from the 'Employee' class and adds an additional property for department. Override the annual salary calculation method to include bonuses for managers. Create two instances of the 'Manager' class and calculate their annual salary."
   ]
  },
  {
   "cell_type": "code",
   "execution_count": 22,
   "metadata": {},
   "outputs": [
    {
     "name": "stdout",
     "output_type": "stream",
     "text": [
      "Manager 1 (Alice, HR) annual salary: $84,000.00\n",
      "Manager 2 (Bob, IT) annual salary: $96,000.00\n"
     ]
    }
   ],
   "source": [
    "class Employee:\n",
    "    def __init__(self, name, salary):\n",
    "        self.name = name\n",
    "        self.salary = salary\n",
    "\n",
    "    def ann_salary(self):\n",
    "        return self.salary * 12\n",
    "\n",
    "class Manager(Employee):\n",
    "    def __init__(self, name, salary, department, bonus=5000):\n",
    "        super().__init__(name, salary)\n",
    "        self.department = department\n",
    "        self.bonus = bonus\n",
    "\n",
    "    def calculate_annual_salary(self):\n",
    "        return super().ann_salary() + self.bonus\n",
    "\n",
    "manag1 = Manager(name=\"Alice\", salary=7000, department=\"HR\", bonus=10000)\n",
    "manag2 = Manager(name=\"Bob\", salary=8000, department=\"IT\", bonus=15000)\n",
    "\n",
    "print(f\"Manager 1 ({manag1.name}, {manag1.department}) annual salary: ${manag1.ann_salary():,.2f}\")\n",
    "print(f\"Manager 2 ({manag2.name}, {manag2.department}) annual salary: ${manag2.ann_salary():,.2f}\")"
   ]
  },
  {
   "cell_type": "markdown",
   "metadata": {},
   "source": [
    "7. Write a Python program that creates a class `Book` with properties for title, author, and publication year. Include a method to display book details. Create a subclass called 'Ebook' that inherits from the 'Book' class and includes an additional property for book price. Override the display method to include the book price. Create an instance of the 'Ebook' class and display its details. "
   ]
  },
  {
   "cell_type": "code",
   "execution_count": 25,
   "metadata": {},
   "outputs": [
    {
     "name": "stdout",
     "output_type": "stream",
     "text": [
      "Title: Data Science & Artificial Intelligence\n",
      "Author: Zeeshan-ul-hasan\n",
      "Publication Year: 2020\n",
      "Price: $20.00\n"
     ]
    }
   ],
   "source": [
    "class Book():\n",
    "    def __init__(self,title,author,publication):\n",
    "        self.title = title\n",
    "        self.author = author\n",
    "        self.publication = publication\n",
    "    \n",
    "    def details(self):\n",
    "        print(f\"Title: {self.title}\")\n",
    "        print(f\"Author: {self.author}\")\n",
    "        print(f\"Publication Year: {self.publication}\")\n",
    "\n",
    "class Ebook(Book):\n",
    "    def __init__(self, title, author, publication,price):\n",
    "        super().__init__(title, author, publication)\n",
    "        self.price = price\n",
    "\n",
    "    def details(self):\n",
    "        super().details()\n",
    "        print(f\"Price: ${self.price:.2f}\")\n",
    "\n",
    "ebook = Ebook(title=\"Data Science & Artificial Intelligence\", author=\"Zeeshan-ul-hasan\", publication=2020, price=20)\n",
    "ebook.details()"
   ]
  },
  {
   "cell_type": "markdown",
   "metadata": {},
   "source": [
    "8. Write a Python program that creates a class called 'Animal' with properties for species and sound. Include a method to make the animal's sound. Create a subclass called 'Dog' that inherits from the 'Animal' class and adds an additional property for color. Override the make sound method to include the dog's color.Create an instance of the 'Dog' class and make it make its sound."
   ]
  },
  {
   "cell_type": "code",
   "execution_count": 34,
   "metadata": {},
   "outputs": [
    {
     "name": "stdout",
     "output_type": "stream",
     "text": [
      "The Brown dog. Barks: woof woof\n"
     ]
    }
   ],
   "source": [
    "class Animal():\n",
    "    def __init__(self,species,sound):\n",
    "        self.species = species\n",
    "        self.sound = sound\n",
    "    \n",
    "    def make_sound(self):\n",
    "        print(f\"The {self.species}, says: {self.sound}\")\n",
    "\n",
    "class Dog(Animal):\n",
    "    def __init__(self, species, sound,color):\n",
    "        super().__init__(species, sound)\n",
    "        self.color = color\n",
    "    \n",
    "    def make_sound(self):\n",
    "        print(f\"The {self.color} {self.species}. Barks: {self.sound}\")\n",
    "\n",
    "dog = Dog(species=\"dog\", sound=\"woof woof\", color=\"Brown\")\n",
    "dog.make_sound()"
   ]
  },
  {
   "cell_type": "markdown",
   "metadata": {},
   "source": [
    "9. Write a Python program that creates a class called Bank with properties for bank names and branches. Include methods to add a branch, remove a branch, and display all branches. Create an instance of the Bank class and perform operations to add and remove branches."
   ]
  },
  {
   "cell_type": "code",
   "execution_count": 40,
   "metadata": {},
   "outputs": [
    {
     "name": "stdout",
     "output_type": "stream",
     "text": [
      "Branch 'Main Street' added to National Bank.\n",
      "Branch 'Downtown' added to National Bank.\n",
      "Branch 'Airport Road' added to National Bank.\n",
      "Branches of National Bank:\n",
      "- Main Street\n",
      "- Downtown\n",
      "- Airport Road\n",
      "Branch 'Downtown' removed from National Bank.\n",
      "Branches of National Bank:\n",
      "- Main Street\n",
      "- Airport Road\n",
      "Branch 'Seaside' does not exist.\n"
     ]
    }
   ],
   "source": [
    "class Bank:\n",
    "    def __init__(self, name):\n",
    "        self.name = name\n",
    "        self.branches = []\n",
    "\n",
    "    def add_branch(self, branch_name):\n",
    "        if branch_name not in self.branches:\n",
    "            self.branches.append(branch_name)\n",
    "            print(f\"Branch '{branch_name}' added to {self.name}.\")\n",
    "        else:\n",
    "            print(f\"Branch '{branch_name}' already exists.\")\n",
    "\n",
    "    def remove_branch(self, branch_name):\n",
    "        if branch_name in self.branches:\n",
    "            self.branches.remove(branch_name)\n",
    "            print(f\"Branch '{branch_name}' removed from {self.name}.\")\n",
    "        else:\n",
    "            print(f\"Branch '{branch_name}' does not exist.\")\n",
    "\n",
    "    def display_branches(self):\n",
    "        if self.branches:\n",
    "            print(f\"Branches of {self.name}:\")\n",
    "            for branch in self.branches:\n",
    "                print(f\"- {branch}\")\n",
    "        else:\n",
    "            print(f\"{self.name} has no branches.\")\n",
    "\n",
    "my_bank = Bank(name=\"National Bank\")\n",
    "my_bank.add_branch(\"Main Street\")\n",
    "my_bank.add_branch(\"Downtown\")\n",
    "my_bank.add_branch(\"Airport Road\")\n",
    "\n",
    "my_bank.display_branches()\n",
    "\n",
    "my_bank.remove_branch(\"Downtown\")\n",
    "my_bank.display_branches()\n",
    "my_bank.remove_branch(\"Seaside\")\n"
   ]
  },
  {
   "cell_type": "markdown",
   "metadata": {},
   "source": [
    "10. Write a Python program that creates a class called Product with properties for product ID, name, and price. Include a method to calculate the total price by multiplying the price by the quantity. Create a subclass called PersonalCareProduct that inherits from the Product class and adds an additional property for the warranty period. Override the total price calculation method to include the warranty period. Create an instance of the PersonalCareProduct class and calculate its total price."
   ]
  },
  {
   "cell_type": "code",
   "execution_count": 55,
   "metadata": {},
   "outputs": [
    {
     "name": "stdout",
     "output_type": "stream",
     "text": [
      "The Product 'Electric kettle' has a warranty period of 2\n",
      "The total price for units of 'Electric kettle' is: $600\n"
     ]
    }
   ],
   "source": [
    "class product():\n",
    "    def __init__(self,product_ID,name,price):\n",
    "        self.productID = product_ID\n",
    "        self.name = name\n",
    "        self.price = price\n",
    "\n",
    "    def total_price(self,quantity):\n",
    "        return self.price * quantity\n",
    "    \n",
    "class CareProd(product):\n",
    "    def __init__(self, product_ID, name, price,warranty_period):\n",
    "        super().__init__(product_ID, name, price)\n",
    "        self.warranty_period = warranty_period\n",
    "\n",
    "    def total_price(self, quantity):\n",
    "        base_total_price = super().total_price(quantity=3)\n",
    "        print(f\"The Product '{self.name}' has a warranty period of {self.warranty_period}\")\n",
    "        return base_total_price\n",
    "    \n",
    "care_prod = CareProd(product_ID = 101, name = \"Electric kettle\", price = 200, warranty_period=2)\n",
    "\n",
    "total_price = care_prod.total_price(quantity=3)\n",
    "\n",
    "print(f\"The total price for units of '{care_prod.name}' is: ${total_price}\")"
   ]
  },
  {
   "cell_type": "markdown",
   "metadata": {},
   "source": [
    "11. Write a Python program that creates a class called BankAccount with properties for account number, account holder name, and balance. Include methods to deposit, withdraw, and transfer money between accounts. Create multiple instances of the BankAccount class and perform operations such as depositing, withdrawing, and transferring money."
   ]
  },
  {
   "cell_type": "code",
   "execution_count": 57,
   "metadata": {},
   "outputs": [
    {
     "name": "stdout",
     "output_type": "stream",
     "text": [
      "\n",
      "Initial Balances:\n",
      "Alice's Account Balance: $1000.00\n",
      "Bob's Account Balance: $500.00\n",
      "\n",
      "Depositing Money:\n",
      "$200 deposited into account 101. New balance: $1200.00\n",
      "$300 deposited into account 102. New balance: $800.00\n",
      "\n",
      "Withdrawing Money:\n",
      "$150 withdrawn from account 101. New balance: $1050.00\n",
      "$100 withdrawn from account 102. New balance: $700.00\n",
      "\n",
      "Transferring Money:\n",
      "$200 transferred from account 101 to account 102.\n",
      "New balance for account 101: $850.00\n",
      "New balance for account 102: $900.00\n",
      "\n",
      "Final Balances:\n",
      "Alice's Account Balance: $850.00\n",
      "Bob's Account Balance: $900.00\n"
     ]
    }
   ],
   "source": [
    "class BankAccount:\n",
    "    def __init__(self, account_number, account_holder_name, balance=0):\n",
    "        self.account_number = account_number\n",
    "        self.account_holder_name = account_holder_name\n",
    "        self.balance = balance\n",
    "\n",
    "    def deposit(self, amount):\n",
    "        if amount > 0:\n",
    "            self.balance += amount\n",
    "            print(f\"${amount} deposited into account {self.account_number}. New balance: ${self.balance:.2f}\")\n",
    "        else:\n",
    "            print(\"Deposit amount must be positive.\")\n",
    "\n",
    "    def withdraw(self, amount):\n",
    "        if 0 < amount <= self.balance:\n",
    "            self.balance -= amount\n",
    "            print(f\"${amount} withdrawn from account {self.account_number}. New balance: ${self.balance:.2f}\")\n",
    "        elif amount > self.balance:\n",
    "            print(f\"Insufficient balance in account {self.account_number}.\")\n",
    "        else:\n",
    "            print(\"Withdrawal amount must be positive.\")\n",
    "\n",
    "    def transfer(self, amount, target_account):\n",
    "        if 0 < amount <= self.balance:\n",
    "            self.balance -= amount\n",
    "            target_account.balance += amount\n",
    "            print(f\"${amount} transferred from account {self.account_number} to account {target_account.account_number}.\")\n",
    "            print(f\"New balance for account {self.account_number}: ${self.balance:.2f}\")\n",
    "            print(f\"New balance for account {target_account.account_number}: ${target_account.balance:.2f}\")\n",
    "        elif amount > self.balance:\n",
    "            print(f\"Insufficient balance in account {self.account_number} to transfer.\")\n",
    "        else:\n",
    "            print(\"Transfer amount must be positive.\")\n",
    "\n",
    "account1 = BankAccount(account_number=101, account_holder_name=\"Alice\", balance=1000)\n",
    "account2 = BankAccount(account_number=102, account_holder_name=\"Bob\", balance=500)\n",
    "\n",
    "print(\"\\nInitial Balances:\")\n",
    "print(f\"Alice's Account Balance: ${account1.balance:.2f}\")\n",
    "print(f\"Bob's Account Balance: ${account2.balance:.2f}\")\n",
    "\n",
    "print(\"\\nDepositing Money:\")\n",
    "account1.deposit(200)\n",
    "account2.deposit(300)\n",
    "\n",
    "print(\"\\nWithdrawing Money:\")\n",
    "account1.withdraw(150)\n",
    "account2.withdraw(100)\n",
    "\n",
    "print(\"\\nTransferring Money:\")\n",
    "account1.transfer(200, account2)\n",
    "\n",
    "print(\"\\nFinal Balances:\")\n",
    "print(f\"Alice's Account Balance: ${account1.balance:.2f}\")\n",
    "print(f\"Bob's Account Balance: ${account2.balance:.2f}\")"
   ]
  },
  {
   "cell_type": "markdown",
   "metadata": {},
   "source": [
    "12. Write a Python program that creates a class called University with properties for university name and departments. Include methods to add a department,remove a department, and display all departments. Create an instance of the University class and add and remove departments."
   ]
  },
  {
   "cell_type": "code",
   "execution_count": 65,
   "metadata": {},
   "outputs": [
    {
     "name": "stdout",
     "output_type": "stream",
     "text": [
      "\n",
      "Adding Deparments:\n",
      "Department 'Comp_science' added to SMI University\n",
      "Department 'Art Int' added to SMI University\n",
      "Department 'Software Eng' added to SMI University\n",
      "Department 'cyber security' added to SMI University\n",
      "\n",
      "Display Departments\n",
      "Departments in SMI University\n",
      "- Comp_science\n",
      "- Art Int\n",
      "- Software Eng\n",
      "- cyber security\n",
      "SMI University has no department\n",
      "\n",
      "Removing Departments\n",
      "Department 'Art Int' remove from SMI University\n",
      "Department 'cyber security' remove from SMI University\n"
     ]
    }
   ],
   "source": [
    "class University():\n",
    "    def __init__(self,name):\n",
    "        self.name = name\n",
    "        self.department = []\n",
    "    \n",
    "    def add_depart(self,depart_name):\n",
    "        if depart_name not in self.department:\n",
    "            self.department.append(depart_name)\n",
    "            print(f\"Department '{depart_name}' added to {self.name}\")\n",
    "        else:\n",
    "            print(f\"Departmrnts {depart_name} already exist in {self.name}\")\n",
    "        \n",
    "    def remove_depart(self,depart_name):\n",
    "        if depart_name in self.department:\n",
    "            self.department.remove(depart_name)\n",
    "            print(f\"Department '{depart_name}' remove from {self.name}\")\n",
    "        else:\n",
    "            print(f\"Department '{depart_name}' does not exist in {self.name}\")\n",
    "\n",
    "    def dis_depart(self):\n",
    "        if self.department:\n",
    "            print(f\"Departments in {self.name}\")\n",
    "        for department in self.department:\n",
    "            print(f\"- {department}\")\n",
    "        else:\n",
    "            print(f\"{self.name} has no department\")\n",
    "\n",
    "my_uni = University(name=\"SMI University\")\n",
    "\n",
    "print(\"\\nAdding Deparments:\")\n",
    "my_uni.add_depart(\"Comp_science\")\n",
    "my_uni.add_depart(\"Art Int\")\n",
    "my_uni.add_depart(\"Software Eng\")\n",
    "my_uni.add_depart(\"cyber security\")\n",
    "\n",
    "print(\"\\nDisplay Departments\")\n",
    "my_uni.dis_depart()\n",
    "\n",
    "print(\"\\nRemoving Departments\")\n",
    "my_uni.remove_depart(\"Art Int\")\n",
    "my_uni.remove_depart(\"cyber security\")"
   ]
  }
 ],
 "metadata": {
  "kernelspec": {
   "display_name": "Python 3",
   "language": "python",
   "name": "python3"
  },
  "language_info": {
   "codemirror_mode": {
    "name": "ipython",
    "version": 3
   },
   "file_extension": ".py",
   "mimetype": "text/x-python",
   "name": "python",
   "nbconvert_exporter": "python",
   "pygments_lexer": "ipython3",
   "version": "3.13.0"
  }
 },
 "nbformat": 4,
 "nbformat_minor": 2
}

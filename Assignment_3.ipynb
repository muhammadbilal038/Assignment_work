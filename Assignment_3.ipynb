{
 "cells": [
  {
   "cell_type": "markdown",
   "metadata": {},
   "source": [
    "# Python If Else Practice Questions"
   ]
  },
  {
   "cell_type": "markdown",
   "metadata": {},
   "source": [
    "Discounts and Pricing\n",
    "Check Discount Eligibility\n",
    "Write a program to check if a customer is eligible for a discount. If the total purchase is more than $100, apply a 10% discount and display the final price. Otherwise, display the total price as it is."
   ]
  },
  {
   "cell_type": "code",
   "execution_count": 2,
   "metadata": {},
   "outputs": [
    {
     "name": "stdout",
     "output_type": "stream",
     "text": [
      "\n",
      "      Total Bill = 5000.0\n",
      "      Discounts Applied = 500.0\n",
      "      Final Price = 4500.0\n",
      "\n"
     ]
    }
   ],
   "source": [
    "total_purchase = float(input(\"Enter the total purchase amount: $\"))\n",
    "dicounts = None\n",
    "if total_purchase>=100:\n",
    "    discounts = total_purchase*0.10\n",
    "    final_price = total_purchase - discounts\n",
    "    print(f\"\"\"\n",
    "      Total Bill = {total_purchase}\n",
    "      Discounts Applied = {discounts}\n",
    "      Final Price = {total_purchase-discounts}\n",
    "\"\"\")\n",
    "else:\n",
    "    print(f\"\"\"\n",
    "          Total Bill = {total_purchase}\n",
    "          No Discounts Applied\n",
    "          Final Price = {total_purchase}\n",
    "\"\"\")\n"
   ]
  },
  {
   "cell_type": "markdown",
   "metadata": {},
   "source": [
    "Calculate Bulk Discount\n",
    "\n",
    "If a customer buys more than 5 items, apply a 15% discount on the total price. Otherwise, no discount is applied. Display the total price."
   ]
  },
  {
   "cell_type": "markdown",
   "metadata": {},
   "source": []
  },
  {
   "cell_type": "code",
   "execution_count": 3,
   "metadata": {},
   "outputs": [
    {
     "name": "stdout",
     "output_type": "stream",
     "text": [
      "\n",
      "      Total Items = 6.0\n",
      "      Discount Applied = 36.0\n",
      "      Total Price = 204.0\n",
      "\n"
     ]
    }
   ],
   "source": [
    "no_of_items = float(input(\"Enter the number of items: \"))\n",
    "price_per_item = float(input(\"Enter the price per item: \"))\n",
    "total_price = no_of_items*price_per_item\n",
    "\n",
    "if no_of_items>5:\n",
    "    discounts = total_price * 0.15\n",
    "    final_items = no_of_items - discounts\n",
    "    print(f\"\"\"\n",
    "      Total Items = {no_of_items}\n",
    "      Discount Applied = {discounts}\n",
    "      Total Price = {total_price - discounts}\n",
    "\"\"\")\n",
    "else:\n",
    "    print(f\"\"\"\n",
    "      Total Items = {no_of_items}\n",
    "      No Discount Applied = {0}\n",
    "      Total Price = {total_price}\n",
    "      \"\"\")"
   ]
  },
  {
   "cell_type": "markdown",
   "metadata": {},
   "source": [
    "Membership Discount\n",
    "\n",
    "Check if the customer is a member (is_member = True). Members get a 20% discount; non-members get a 5% discount. Calculate and print the discounted price.\n"
   ]
  },
  {
   "cell_type": "code",
   "execution_count": 4,
   "metadata": {},
   "outputs": [
    {
     "name": "stdout",
     "output_type": "stream",
     "text": [
      "\n",
      "        Total Bill = 500.0\n",
      "        Membership Status = member\n",
      "        Discount Applied = 100.0\n",
      "        Final Price = 400.0          \n",
      "\n"
     ]
    }
   ],
   "source": [
    "total_purchase = float(input(\"Enter the price of total purchase: \"))\n",
    "is_member = input(\"Is the customer member? \").strip().lower() == \"yes\"\n",
    "\n",
    "if is_member:\n",
    "    discounts = total_purchase * 0.20\n",
    "else:\n",
    "    discounts = total_purchase * 0.05\n",
    "\n",
    "final_price = total_purchase-discounts\n",
    "print(f\"\"\"\n",
    "        Total Bill = {total_purchase}\n",
    "        Membership Status = {'member' if is_member else 'non-member'}\n",
    "        Discount Applied = {discounts}\n",
    "        Final Price = {final_price}          \n",
    "\"\"\")"
   ]
  },
  {
   "cell_type": "markdown",
   "metadata": {},
   "source": [
    "Seasonal Sale\n",
    "\n",
    "If today is a holiday (is_holiday = True), apply a 25% discount; otherwise, apply a 10% discount. Calculate the price after discount."
   ]
  },
  {
   "cell_type": "code",
   "execution_count": 5,
   "metadata": {},
   "outputs": [
    {
     "name": "stdout",
     "output_type": "stream",
     "text": [
      "\n",
      "      Total Bill = 5000.0\n",
      "      Holiday = Normal Day\n",
      "      Discounts = 500.0\n",
      "      Final Price = 4500.0\n",
      "\n"
     ]
    }
   ],
   "source": [
    "total_purchase = float(input(\"Enter the total purchase of price: \"))\n",
    "is_holiday = input(\"Is Today holiday? \").strip().lower() == \"yes\"\n",
    "\n",
    "if is_holiday:\n",
    "    discounts = total_purchase * 0.25\n",
    "else:\n",
    "    discounts = total_purchase * 0.10\n",
    "\n",
    "final_price = total_purchase - discounts\n",
    "\n",
    "print(f\"\"\"\n",
    "      Total Bill = {total_purchase}\n",
    "      Holiday = {'Holiday' if is_holiday else 'Normal Day'}\n",
    "      Discounts = {discounts}\n",
    "      Final Price = {final_price}\n",
    "\"\"\")"
   ]
  },
  {
   "cell_type": "markdown",
   "metadata": {},
   "source": [
    "Buy-One-Get-One-Free\n",
    "\n",
    "If a customer buys an even number of items, they get half of them for free. Otherwise, they pay for all. Calculate the number of items the customer has to pay for."
   ]
  },
  {
   "cell_type": "code",
   "execution_count": 6,
   "metadata": {},
   "outputs": [
    {
     "name": "stdout",
     "output_type": "stream",
     "text": [
      "\n",
      "      Total items Purchased = 6.0\n",
      "      items Pay = 3.0   \n",
      "      \n"
     ]
    }
   ],
   "source": [
    "total_items = float(input(\"Enter the total number of items: \"))\n",
    "items_pay = None\n",
    "\n",
    "if total_items%2==0:\n",
    "    items_pay = total_items//2\n",
    "else:\n",
    "    items_pay = total_items\n",
    "\n",
    "print(f\"\"\"\n",
    "      Total items Purchased = {total_items}\n",
    "      items Pay = {items_pay}   \n",
    "      \"\"\")"
   ]
  },
  {
   "cell_type": "markdown",
   "metadata": {},
   "source": [
    "Tax Calculations\n",
    "\n",
    "Sales Tax\n",
    "\n",
    "If the price of an item is greater than $500, apply a luxury tax of 15%. Otherwise, apply a standard tax of 8%. Display the total price after tax."
   ]
  },
  {
   "cell_type": "code",
   "execution_count": 7,
   "metadata": {},
   "outputs": [
    {
     "name": "stdout",
     "output_type": "stream",
     "text": [
      "\n",
      "      Item Price = 500.0\n",
      "      Tax Applied = 40.0\n",
      "      Price After Tax = 540.0\n",
      "      \n"
     ]
    }
   ],
   "source": [
    "item_price = float(input(\"Enter the price of items: \"))\n",
    "tax = None\n",
    "\n",
    "if item_price>500:\n",
    "    tax = item_price*0.15\n",
    "else:\n",
    "    tax = item_price*0.08\n",
    "\n",
    "total_price = item_price + tax\n",
    "\n",
    "print(f\"\"\"\n",
    "      Item Price = {item_price}\n",
    "      Tax Applied = {tax}\n",
    "      Price After Tax = {total_price}\n",
    "      \"\"\")"
   ]
  },
  {
   "cell_type": "markdown",
   "metadata": {},
   "source": []
  },
  {
   "cell_type": "markdown",
   "metadata": {},
   "source": [
    "Income Tax\n",
    "If a person's annual income is above $50,000, they pay 20% tax. Otherwise, they pay 10%. Calculate and display the tax amount."
   ]
  },
  {
   "cell_type": "code",
   "execution_count": 8,
   "metadata": {},
   "outputs": [
    {
     "name": "stdout",
     "output_type": "stream",
     "text": [
      "\n",
      "      Annual Income = 10000.0\n",
      "      Tax Applied = 1000.0\n",
      "      After Tax Applied = 11000.0      \n",
      "\n"
     ]
    }
   ],
   "source": [
    "Ann_income = float(input(\"Enter the Person's Annual income: \"))\n",
    "\n",
    "if Ann_income>=50000:\n",
    "    tax = Ann_income*0.20\n",
    "else:\n",
    "    tax = Ann_income*0.10\n",
    "\n",
    "aft_tax = Ann_income+tax\n",
    "\n",
    "print(f\"\"\"\n",
    "      Annual Income = {Ann_income}\n",
    "      Tax Applied = {tax}\n",
    "      After Tax Applied = {aft_tax}      \n",
    "\"\"\")"
   ]
  },
  {
   "cell_type": "markdown",
   "metadata": {},
   "source": [
    "Tax Bracket\n",
    "\n",
    "Write a program to categorize a person into tax brackets:\n",
    "\n",
    "Income < $30,000: \"Low Tax\"\n",
    "\n",
    "$30,000 ≤ Income < $100,000: \"Medium Tax\"\n",
    "\n",
    "Income ≥ $100,000: \"High Tax\"\n"
   ]
  },
  {
   "cell_type": "code",
   "execution_count": 9,
   "metadata": {},
   "outputs": [
    {
     "name": "stdout",
     "output_type": "stream",
     "text": [
      "\n",
      "      Annual Income = 80000.0\n",
      "      Tax Bracket = Medium Tax    \n",
      "\n"
     ]
    }
   ],
   "source": [
    "income = float(input(\"Enter the income: \"))\n",
    "tax_bracket = None\n",
    "\n",
    "if income<30000:\n",
    "    tax_bracket = \"Low Tax\"\n",
    "\n",
    "elif 30000<=income<100000:\n",
    "    tax_bracket = \"Medium Tax\"\n",
    "\n",
    "else:\n",
    "    tax_bracket = \"High Tax\"\n",
    "\n",
    "print(f\"\"\"\n",
    "      Annual Income = {income}\n",
    "      Tax Bracket = {tax_bracket}    \n",
    "\"\"\")    "
   ]
  },
  {
   "cell_type": "markdown",
   "metadata": {},
   "source": [
    "VAT Calculation\n",
    "If the item is marked as essential (is_essential = True), apply a VAT of 5%. Otherwise, apply a VAT of 12%. Display the final price."
   ]
  },
  {
   "cell_type": "code",
   "execution_count": 10,
   "metadata": {},
   "outputs": [
    {
     "name": "stdout",
     "output_type": "stream",
     "text": [
      "\n",
      "        Item Rate  = 4000.0\n",
      "        Vat Price = 0.05\n",
      "        Vat Amount = 200.0\n",
      "        Final Price = 4200.0          \n",
      "\n"
     ]
    }
   ],
   "source": [
    "item_price = float(input(\"Enter the price of total purchase: \"))\n",
    "is_essential = input(\"Is the Essential? \").strip().lower() == \"yes\"\n",
    "\n",
    "if is_essential:\n",
    "    vat_rate = 0.05\n",
    "else:\n",
    "    vat_rate = 0.12\n",
    "\n",
    "vat = item_price * vat_rate\n",
    "final_price = item_price + vat\n",
    "print(f\"\"\"\n",
    "        Item Rate  = {item_price}\n",
    "        Vat Price = {vat_rate}\n",
    "        Vat Amount = {vat}\n",
    "        Final Price = {final_price}          \n",
    "\"\"\")"
   ]
  },
  {
   "cell_type": "markdown",
   "metadata": {},
   "source": [
    "Tax-Free Day\n",
    "\n",
    "If today is a tax-free day (tax_free = True), display the original price. Otherwise, add a 7% tax."
   ]
  },
  {
   "cell_type": "code",
   "execution_count": 11,
   "metadata": {},
   "outputs": [
    {
     "name": "stdout",
     "output_type": "stream",
     "text": [
      "\n",
      "      Item Price = 400.0\n",
      "      Tax Free Day = No\n",
      "      Tax Rate = 7.000000000000001%\n",
      "      Final Price = 428.0\n",
      "      \n"
     ]
    }
   ],
   "source": [
    "item_price = float(input(\"Enter the Price of Items\"))\n",
    "tax_free = input(\"Is the tax-free day?\").strip().lower() == \"yes\"\n",
    "\n",
    "if tax_free:\n",
    "    final_price = item_price\n",
    "    tax_rate = 0\n",
    "else:\n",
    "    tax_rate = 0.07\n",
    "    tax = item_price*tax_rate\n",
    "    final_price = item_price + tax\n",
    "\n",
    "print(f\"\"\"\n",
    "      Item Price = {item_price}\n",
    "      Tax Free Day = {\"Yes\" if tax_free else \"No\"}\n",
    "      Tax Rate = {tax_rate * 100}%\n",
    "      Final Price = {final_price}\n",
    "      \"\"\")"
   ]
  },
  {
   "cell_type": "markdown",
   "metadata": {},
   "source": [
    "Shopping and Billing\n",
    "\n",
    "Free Shipping\n",
    "\n",
    "If the total purchase amount is more than $50, offer free shipping; otherwise, charge $5 for shipping. Display the total amount including shipping.\n"
   ]
  },
  {
   "cell_type": "code",
   "execution_count": 12,
   "metadata": {},
   "outputs": [
    {
     "name": "stdout",
     "output_type": "stream",
     "text": [
      "\n",
      "ff\n",
      "      Total Price = 5000.0\n",
      "      Total Amount = 5000.0\n",
      "      Shipping Rate = 0\n",
      "      Applied Shipping Rate = 5000.0\n",
      "\n"
     ]
    }
   ],
   "source": [
    "total_purchase_amount = float(input(\"Enter the Total Price of purchase: \"))\n",
    "\n",
    "if total_purchase_amount>50:\n",
    "    shipping_rate = 0\n",
    "else:\n",
    "    shipping_rate = 5\n",
    "\n",
    "total_amount = total_purchase_amount + shipping_rate\n",
    "\n",
    "print(f\"\"\"\n",
    "ff\n",
    "      Total Price = {total_purchase_amount}\n",
    "      Total Amount = {total_amount}\n",
    "      Shipping Rate = {shipping_rate}\n",
    "      Applied Shipping Rate = {total_amount}\n",
    "\"\"\")"
   ]
  },
  {
   "cell_type": "markdown",
   "metadata": {},
   "source": []
  },
  {
   "cell_type": "markdown",
   "metadata": {},
   "source": [
    "Discount Code\n",
    "\n",
    "If a customer enters the correct discount code (DISCOUNT10), apply a 10% discount. Otherwise, charge the full amount."
   ]
  },
  {
   "cell_type": "code",
   "execution_count": 14,
   "metadata": {},
   "outputs": [
    {
     "name": "stdout",
     "output_type": "stream",
     "text": [
      "\n",
      "      Original Price = 49.0\n",
      "      code = Invalid Code\n",
      "      Discount Applied = 0\n",
      "      Final Price = 49.0\n",
      "\n"
     ]
    }
   ],
   "source": [
    "price = float(input(\"Enter the Amount: \"))\n",
    "code = input(\"Enter the discount code: \")\n",
    "\n",
    "if code == \"DISCOUNT10\":\n",
    "    discount = price*0.10\n",
    "else:\n",
    "    discount = 0\n",
    "\n",
    "final_price = price-discount\n",
    "print(f\"\"\"\n",
    "      Original Price = {price}\n",
    "      code = {code if discount > 0 else 'Invalid Code'}\n",
    "      Discount Applied = {discount}\n",
    "      Final Price = {final_price}\n",
    "\"\"\")\n"
   ]
  },
  {
   "cell_type": "markdown",
   "metadata": {},
   "source": [
    "Tiered Discounts\n",
    "\n",
    "Apply discounts based on the total price:\n",
    "\n",
    "$0–$50: No discount.\n",
    "\n",
    "$50–$100: 10% discount.\n",
    "\n",
    "Over $100: 20% discount."
   ]
  },
  {
   "cell_type": "code",
   "execution_count": 15,
   "metadata": {},
   "outputs": [
    {
     "name": "stdout",
     "output_type": "stream",
     "text": [
      "\n",
      "      Total Price = 5000.0\n",
      "      Discount Applied = 1000.0\n",
      "      Final Price = 4000.0\n",
      "\n"
     ]
    }
   ],
   "source": [
    "total_price = float(input(\"Enter the Total Price: \"))\n",
    "\n",
    "if total_price<=50:\n",
    "    discount = 0\n",
    "elif 50<discount<=100:\n",
    "    discount = total_price*0.10\n",
    "else:\n",
    "    discount = total_price*0.20\n",
    "\n",
    "final_price = total_price - discount\n",
    "\n",
    "print(f\"\"\"\n",
    "      Total Price = {total_price}\n",
    "      Discount Applied = {discount}\n",
    "      Final Price = {final_price}\n",
    "\"\"\")"
   ]
  },
  {
   "cell_type": "markdown",
   "metadata": {},
   "source": [
    "Minimum Purchase Requirement\n",
    "\n",
    "If the total amount is less than $20, display a message: \"Minimum purchase of $20 is required.\" Otherwise, display the total amount."
   ]
  },
  {
   "cell_type": "code",
   "execution_count": 19,
   "metadata": {},
   "outputs": [
    {
     "name": "stdout",
     "output_type": "stream",
     "text": [
      "\n",
      "      Minimum Purchase = Minimum Purchase of 20 is required\n",
      "      Total Purchase = 45.0\n",
      "\n"
     ]
    }
   ],
   "source": [
    "total_amount = float(input(\"Enter the Total Amount: \"))\n",
    "\n",
    "if total_amount<20:\n",
    "    min_purchase = \"Minimum Purchase of 20 is required\"\n",
    "else:\n",
    "    total_amount\n",
    "\n",
    "print(f\"\"\"\n",
    "      Minimum Purchase = {min_purchase}\n",
    "      Total Purchase = {total_amount}\n",
    "\"\"\")"
   ]
  },
  {
   "cell_type": "markdown",
   "metadata": {},
   "source": []
  },
  {
   "cell_type": "markdown",
   "metadata": {},
   "source": [
    "Loyalty Points\n",
    "\n",
    "If a customer is a loyal member (is_loyal = True), they earn double loyalty points for their purchase. Otherwise, they earn standard points."
   ]
  },
  {
   "cell_type": "code",
   "execution_count": 20,
   "metadata": {},
   "outputs": [
    {
     "name": "stdout",
     "output_type": "stream",
     "text": [
      "\n",
      "\n",
      "ff\n",
      "      Total Purchase Amount = 4000.0\n",
      "      Loyalty Member = yes\n",
      "      Points Earned = 8000.0\n",
      "      \n"
     ]
    }
   ],
   "source": [
    "total_purchase = float(input(\"Enter the total price of purchase: \"))\n",
    "is_loyal = input(\"Is the cstomer is loyal? \").strip().lower() == \"yes\"\n",
    "\n",
    "point = 1\n",
    "if is_loyal:\n",
    "    point *= 2\n",
    "\n",
    "loyalty_point = total_purchase *point\n",
    "\n",
    "print(f\"\"\"\n",
    "\n",
    "ff\n",
    "      Total Purchase Amount = {total_purchase}\n",
    "      Loyalty Member = {\"yes\" if is_loyal else \"no\"}\n",
    "      Points Earned = {loyalty_point}\n",
    "      \"\"\")"
   ]
  },
  {
   "cell_type": "markdown",
   "metadata": {},
   "source": [
    "Travel and Tickets\n",
    "\n",
    "Travel Discount\n",
    "\n",
    "If a person is traveling more than 500 miles, offer a 20% discount on ticket price. Otherwise, charge the full amount."
   ]
  },
  {
   "cell_type": "code",
   "execution_count": 21,
   "metadata": {},
   "outputs": [
    {
     "name": "stdout",
     "output_type": "stream",
     "text": [
      "\n",
      "ff\n",
      "      Travel Distance = 400.0 miles\n",
      "      Ticket Price = 5000.0\n",
      "      Discount = 0\n",
      "      Final Price = 4000.0\n",
      "\n"
     ]
    }
   ],
   "source": [
    "ticket_price = float(input(\"Enter the Ticket Price: \"))\n",
    "distance = float(input(\"Enter the Distance per Miles: \"))\n",
    "\n",
    "if distance>500:\n",
    "    discount = ticket_price * 0.20\n",
    "    final_price = ticket_price - discount\n",
    "else:\n",
    "    discount = 0\n",
    "\n",
    "fina_price = ticket_price - discount\n",
    "\n",
    "print(f\"\"\"\n",
    "ff\n",
    "      Travel Distance = {distance} miles\n",
    "      Ticket Price = {ticket_price}\n",
    "      Discount = {discount}\n",
    "      Final Price = {final_price}\n",
    "\"\"\")"
   ]
  },
  {
   "cell_type": "markdown",
   "metadata": {},
   "source": [
    "Child or Senior Discount\n",
    "\n",
    "If a passenger is under 12 or over 60 years old, apply a 15% discount on the ticket price. Otherwise, charge the full price."
   ]
  },
  {
   "cell_type": "code",
   "execution_count": 22,
   "metadata": {},
   "outputs": [
    {
     "name": "stdout",
     "output_type": "stream",
     "text": [
      "\n",
      "      Age = 30\n",
      "      Ticket Price  = 5000.0\n",
      "      Discount Applied = 0\n",
      "      Final Price = 5000.0\n",
      "\n"
     ]
    }
   ],
   "source": [
    "age = int(input(\"Enter the Passenger's Age: \"))\n",
    "ticket_price = float(input(\"Enter the Ticket Price: \"))\n",
    "\n",
    "if age < 12 or age > 60:\n",
    "    discount = ticket_price * 0.15\n",
    "else:\n",
    "    discount = 0\n",
    "\n",
    "final_price = ticket_price - discount\n",
    "print(f\"\"\"\n",
    "      Age = {age}\n",
    "      Ticket Price  = {ticket_price}\n",
    "      Discount Applied = {discount}\n",
    "      Final Price = {final_price}\n",
    "\"\"\")"
   ]
  },
  {
   "cell_type": "markdown",
   "metadata": {},
   "source": []
  },
  {
   "cell_type": "markdown",
   "metadata": {},
   "source": [
    "Ticket Type Pricing\n",
    "\n",
    "If the ticket is for a weekend (is_weekend = True), add a 10% surcharge. Otherwise, charge the standard price."
   ]
  },
  {
   "cell_type": "code",
   "execution_count": 23,
   "metadata": {},
   "outputs": [
    {
     "name": "stdout",
     "output_type": "stream",
     "text": [
      "\n",
      "      Ticket Price = 5000.0\n",
      "      Weekend = yes\n",
      "      Surcharge Applied = 500.0\n",
      "      Final Price = 5000.0\n",
      "\n"
     ]
    }
   ],
   "source": [
    "ticket_price = float(input(\"Enter the Ticket Price: \"))\n",
    "is_weekend = input(\"is Ticket for a Weekend? \").strip().lower() == \"yes\"\n",
    "\n",
    "if is_weekend:\n",
    "    surcharge = ticket_price * 0.10\n",
    "else:\n",
    "    surcharge = 0 \n",
    "\n",
    "final_price = ticket_price + is_weekend\n",
    "print(f\"\"\"\n",
    "      Ticket Price = {ticket_price}\n",
    "      Weekend = {\"yes\" if is_weekend else \"no\"}\n",
    "      Surcharge Applied = {surcharge}\n",
    "      Final Price = {fina_price}\n",
    "\"\"\")"
   ]
  },
  {
   "cell_type": "markdown",
   "metadata": {},
   "source": [
    "Baggage Fee\n",
    "\n",
    "If the total baggage weight is over 20kg, charge $10 per extra kilogram. Otherwise, no extra fee."
   ]
  },
  {
   "cell_type": "code",
   "execution_count": 24,
   "metadata": {},
   "outputs": [
    {
     "name": "stdout",
     "output_type": "stream",
     "text": [
      "\n",
      "      Baggage Weight = 500.0\n",
      "      Extra Weight = 480.0\n",
      "      charge Applied = 4800.0\n",
      "\n"
     ]
    }
   ],
   "source": [
    "baggage_weight = float(input(\"Enter the Baggage Weight: \"))\n",
    "\n",
    "if baggage_weight>20:\n",
    "    extra_weight = baggage_weight - 20 \n",
    "    charge = extra_weight * 10\n",
    "else:\n",
    "    extra_weight = 0\n",
    "    charge = 0\n",
    "\n",
    "final_price = ticket_price + charge\n",
    "\n",
    "print(f\"\"\"\n",
    "      Baggage Weight = {baggage_weight}\n",
    "      Extra Weight = {extra_weight}\n",
    "      charge Applied = {charge}\n",
    "\"\"\")"
   ]
  },
  {
   "cell_type": "markdown",
   "metadata": {},
   "source": [
    "Early Bird Discount\n",
    "\n",
    "If a ticket is booked more than 30 days in advance, apply a 10% discount. Otherwise, charge the full price."
   ]
  },
  {
   "cell_type": "code",
   "execution_count": 25,
   "metadata": {},
   "outputs": [
    {
     "name": "stdout",
     "output_type": "stream",
     "text": [
      "\n",
      "      Ticket_Price = 5000.0\n",
      "      Advance Days = 58.0\n",
      "      Discount Applied = 500.0\n",
      "      Final Price = 4500.0\n",
      "\n"
     ]
    }
   ],
   "source": [
    "ticket_price = float(input(\"Enter the Ticket Price: \"))\n",
    "adv_day = float(input(\"Enter the Advance Days: \"))\n",
    "\n",
    "if adv_day>30:\n",
    "    discount = ticket_price * 0.10\n",
    "else:\n",
    "    discount = 0\n",
    "\n",
    "final_price = ticket_price - discount\n",
    "\n",
    "print(f\"\"\"\n",
    "      Ticket_Price = {ticket_price}\n",
    "      Advance Days = {adv_day}\n",
    "      Discount Applied = {discount}\n",
    "      Final Price = {final_price}\n",
    "\"\"\")"
   ]
  },
  {
   "cell_type": "markdown",
   "metadata": {},
   "source": [
    "Grades and Performance\n",
    "\n",
    "Pass or Fail\n",
    "\n",
    "If a student scores 40 or more, print \"Pass\". Otherwise, print \"Fail\".\n",
    "\n",
    "Grade Assignment\n",
    "\n",
    "Based on a student's score, assign grades:\n",
    "\n",
    "90 and above: \"A\"\n",
    "\n",
    "75–89: \"B\"\n",
    "\n",
    "50–74: \"C\"\n",
    "\n",
    "Below 50: \"F\""
   ]
  },
  {
   "cell_type": "code",
   "execution_count": 26,
   "metadata": {},
   "outputs": [
    {
     "name": "stdout",
     "output_type": "stream",
     "text": [
      "\n",
      "      Student's Score = 40.0\n",
      "      Result = Pass\n",
      "      Grade = B\n",
      "\n"
     ]
    }
   ],
   "source": [
    "stu_score = float(input(\"Enter the Students Scores: \"))\n",
    "\n",
    "if stu_score >= 40:\n",
    "    pass_fail = \"Pass\"\n",
    "else:\n",
    "    pass_fail = \"Fail\"\n",
    "\n",
    "if stu_score >= 90:\n",
    "    grade = \"A\"\n",
    "elif stu_score <= 75 < 90:\n",
    "    grade = \"B\"\n",
    "elif stu_score <=50 < 74:\n",
    "    grade = \"C\"\n",
    "else:\n",
    "    grade = \"F\"\n",
    "\n",
    "print(f\"\"\"\n",
    "      Student's Score = {stu_score}\n",
    "      Result = {pass_fail}\n",
    "      Grade = {grade}\n",
    "\"\"\")"
   ]
  },
  {
   "cell_type": "markdown",
   "metadata": {},
   "source": [
    "Bonus Marks\n",
    "\n",
    "If a student completes all assignments, add 5 bonus marks to their score. Otherwise, no bonus marks."
   ]
  },
  {
   "cell_type": "code",
   "execution_count": 27,
   "metadata": {},
   "outputs": [
    {
     "name": "stdout",
     "output_type": "stream",
     "text": [
      "\n",
      "ff\n",
      "      Score = 400.0\n",
      "      Completed Assignment = no\n",
      "      Bonus Marks = 0\n",
      "      Total Marks = 400.0\n",
      "\n"
     ]
    }
   ],
   "source": [
    "score = float(input(\"Enter the Marks: \"))\n",
    "com_assign = input(\"Has the student completed all Assignment?: \").strip().lower() == \"yes\"\n",
    "\n",
    "if com_assign:\n",
    "    bonus_marks = 5\n",
    "else:\n",
    "    bonus_marks = 0\n",
    "\n",
    "total_marks = score + bonus_marks\n",
    "\n",
    "print(f\"\"\"\n",
    "ff\n",
    "      Score = {score}\n",
    "      Completed Assignment = {\"yes\" if com_assign else \"no\"}\n",
    "      Bonus Marks = {bonus_marks}\n",
    "      Total Marks = {total_marks}\n",
    "\"\"\")"
   ]
  },
  {
   "cell_type": "markdown",
   "metadata": {},
   "source": [
    "Attendance Eligibility\n",
    "\n",
    "If a student's attendance is 75% or more, they are eligible to take the exam. Otherwise, they are not."
   ]
  },
  {
   "cell_type": "code",
   "execution_count": 28,
   "metadata": {},
   "outputs": [
    {
     "name": "stdout",
     "output_type": "stream",
     "text": [
      "\n",
      "      Attendance = 69.0%\n",
      "      Exam Eligibility = They are not taken the exam\n",
      "\n"
     ]
    }
   ],
   "source": [
    "stu_atten = float(input(\"Enter the Attendance Percentage: \"))\n",
    "\n",
    "if stu_atten>75:\n",
    "    eligibility = \"They are eligible to take the exam\"\n",
    "else:\n",
    "    eligibility = \"They are not taken the exam\"\n",
    "\n",
    "print(f\"\"\"\n",
    "      Attendance = {stu_atten}%\n",
    "      Exam Eligibility = {eligibility}\n",
    "\"\"\")"
   ]
  },
  {
   "cell_type": "markdown",
   "metadata": {},
   "source": [
    "Scholarship Eligibility\n",
    "\n",
    "If a student's grade is \"A\" and their annual family income is below $30,000, they are eligible for a scholarship. Otherwise, they are not."
   ]
  },
  {
   "cell_type": "code",
   "execution_count": 29,
   "metadata": {},
   "outputs": [
    {
     "name": "stdout",
     "output_type": "stream",
     "text": [
      "\n",
      "      Grade = A\n",
      "      Annual Income = 3999.0\n",
      "      Scholarhip Eligibility = They are eligible for a scholarship\n",
      "\n"
     ]
    }
   ],
   "source": [
    "grade = input(\"Enter the students Grade: \").strip().upper()\n",
    "family_income = float(input(\"Enter the Family Income: \"))\n",
    "\n",
    "if grade == 'A' and family_income < 30000:\n",
    "    scholarship = \"They are eligible for a scholarship\"\n",
    "else:\n",
    "    scholarship = \"They are not eligible for scholarship\"\n",
    "\n",
    "print(f\"\"\"\n",
    "      Grade = {grade}\n",
    "      Annual Income = {family_income}\n",
    "      Scholarhip Eligibility = {scholarship}\n",
    "\"\"\")"
   ]
  }
 ],
 "metadata": {
  "kernelspec": {
   "display_name": "Python 3",
   "language": "python",
   "name": "python3"
  },
  "language_info": {
   "codemirror_mode": {
    "name": "ipython",
    "version": 3
   },
   "file_extension": ".py",
   "mimetype": "text/x-python",
   "name": "python",
   "nbconvert_exporter": "python",
   "pygments_lexer": "ipython3",
   "version": "3.13.0"
  }
 },
 "nbformat": 4,
 "nbformat_minor": 2
}

{
 "cells": [
  {
   "cell_type": "markdown",
   "metadata": {},
   "source": [
    "# Strings Assignment"
   ]
  },
  {
   "cell_type": "markdown",
   "metadata": {},
   "source": [
    "1. Write a program that accepts a string from user. Your program should count and display number of\n",
    "vowels in that string."
   ]
  },
  {
   "cell_type": "code",
   "execution_count": 10,
   "metadata": {},
   "outputs": [
    {
     "name": "stdout",
     "output_type": "stream",
     "text": [
      "The number of vowels in the string is: 6\n"
     ]
    }
   ],
   "source": [
    "user = input(\"Enter the input from user: \")\n",
    "count = 0\n",
    "vowels = \"aeiouAEIOU\"\n",
    "\n",
    "for i in user:\n",
    "    if i in vowels:\n",
    "        count += 1\n",
    "\n",
    "print(f\"The number of vowels in the string is: {count}\")"
   ]
  },
  {
   "cell_type": "markdown",
   "metadata": {},
   "source": [
    "2. Write a program that reads a string from keyboard and display:\n",
    "* The number of uppercase letters in the string\n",
    "* The number of lowercase letters in the string\n",
    "* The number of digits in the string\n",
    "* The number of whitespace characters in the string"
   ]
  },
  {
   "cell_type": "code",
   "execution_count": 7,
   "metadata": {},
   "outputs": [
    {
     "name": "stdout",
     "output_type": "stream",
     "text": [
      "Number of UpperCases: 0,\n",
      "          Number of Lower Caser: 32,\n",
      "          Number of Digits: 7,\n",
      "          Number of WhiteSpaces: 2\n"
     ]
    }
   ],
   "source": [
    "n = input(\"Enter Your Input\")\n",
    "def analyze():\n",
    "    up_case = sum(1 for c in n if c.isupper())\n",
    "    low_case = sum(1 for c in n if c.islower())\n",
    "    digit = sum(1 for c in n if c.isdigit())\n",
    "    space = sum(1 for c in n if c.isspace())\n",
    "\n",
    "    print(f\"\"\"Number of UpperCases: {up_case},\n",
    "          Number of Lower Cases: {low_case},\n",
    "          Number of Digits: {digit},\n",
    "          Number of WhiteSpaces: {space}\"\"\")\n",
    "analyze()\n"
   ]
  },
  {
   "cell_type": "markdown",
   "metadata": {},
   "source": [
    "3. Write a Python program that accepts a string from user. Your program should create and display a new string where the first and last characters have been exchanged.\n",
    "\n",
    "For example if the user enters the string 'HELLO' then new string would be 'OELLH'"
   ]
  },
  {
   "cell_type": "code",
   "execution_count": 19,
   "metadata": {},
   "outputs": [
    {
     "name": "stdout",
     "output_type": "stream",
     "text": [
      "New String eivf\n"
     ]
    }
   ],
   "source": [
    "n = input(\"Enter Your String: \")\n",
    "\n",
    "if len(n):\n",
    "    new_str = n[-1] + n[1:-1] + n[0]\n",
    "else:\n",
    "    new_str = n\n",
    "\n",
    "print(\"New String\", new_str)"
   ]
  },
  {
   "cell_type": "markdown",
   "metadata": {},
   "source": [
    "4. Write a Python program that accepts a string from user. Your program should create a new string in reverse of first string and display it.\n",
    "\n",
    "For example if the user enters the string 'EXAM' then new string would be 'MAXE'"
   ]
  },
  {
   "cell_type": "code",
   "execution_count": 17,
   "metadata": {},
   "outputs": [
    {
     "name": "stdout",
     "output_type": "stream",
     "text": [
      "Reversed String:  pin\n"
     ]
    }
   ],
   "source": [
    "n = input(\"Enter Your String: \")\n",
    "\n",
    "rev_str = n[::-1]\n",
    "\n",
    "print(\"Reversed String: \", rev_str)"
   ]
  },
  {
   "cell_type": "markdown",
   "metadata": {},
   "source": [
    "5. Write a Python program that accepts a string from user. Your program should create a new string by shifting one position to left.\n",
    "\n",
    "For example if the user enters the string 'examination 2021' then new string would be 'xamination\n",
    "2021e'"
   ]
  },
  {
   "cell_type": "markdown",
   "metadata": {},
   "source": []
  },
  {
   "cell_type": "code",
   "execution_count": 20,
   "metadata": {},
   "outputs": [
    {
     "name": "stdout",
     "output_type": "stream",
     "text": [
      "New String ivef\n"
     ]
    }
   ],
   "source": [
    "n = input(\"Enter Your String: \")\n",
    "\n",
    "shift_str = n[1:] + n[0]\n",
    "\n",
    "print(\"New String\", shift_str)"
   ]
  },
  {
   "cell_type": "markdown",
   "metadata": {},
   "source": [
    "6. Write a program that asks the user to input his name and print its initials. Assuming that the user always types first name, middle name and last name and does not include any unnecessary spaces.\n",
    "\n",
    "For example, if the user enters Ajay Kumar Garg the program should display A. K. G.\n",
    "\n",
    "Note:Don't use split() method"
   ]
  },
  {
   "cell_type": "code",
   "execution_count": 27,
   "metadata": {},
   "outputs": [
    {
     "name": "stdout",
     "output_type": "stream",
     "text": [
      "m. s. l\n"
     ]
    }
   ],
   "source": [
    "name = str(input(\"Enetr Your Name: \"))\n",
    "\n",
    "first_name  = name[0]\n",
    "middle_name = name[len(name.split()[0]) +1]\n",
    "last_name = name[len(name.split()[0]) + len(name.split()[1]) +2]\n",
    "\n",
    "print(f\"{first_name}. {middle_name}. {last_name}\")"
   ]
  },
  {
   "cell_type": "markdown",
   "metadata": {},
   "source": [
    "7. A palindrome is a string that reads the same backward as forward. For example, the words dad, madam and radar are all palindromes. Write a programs that determines whether the string is a palindrome.\n",
    "\n",
    "Note: do not use reverse() method"
   ]
  },
  {
   "cell_type": "code",
   "execution_count": 28,
   "metadata": {},
   "outputs": [
    {
     "name": "stdout",
     "output_type": "stream",
     "text": [
      "The String 'fawadis not a PlainDrome\n"
     ]
    }
   ],
   "source": [
    "n = input(\"Enter Your String: \")\n",
    "\n",
    "is_plaindrome = True\n",
    "for i in range(len(n) // 2):\n",
    "    if n[i] != n[len(n) - 1 -i]:\n",
    "        is_plaindrome = False\n",
    "        break\n",
    "\n",
    "if is_plaindrome:\n",
    "    print(f\"The String '{n} is a PalinDrome\")\n",
    "else:\n",
    "    print(f\"The String '{n} is not a PlainDrome\")"
   ]
  },
  {
   "cell_type": "markdown",
   "metadata": {},
   "source": [
    "9. Write a program in python that accepts a string to setup a passwords. Your entered password must meet the following requirements:\n",
    "\n",
    "The password must be at least eight characters long.\n",
    "\n",
    "It must contain at least one uppercase letter.\n",
    "\n",
    "It must contain at least one lowercase letter.\n",
    "\n",
    "It must contain at least one numeric digit.\n",
    "\n",
    "Your program should should perform this validation."
   ]
  },
  {
   "cell_type": "markdown",
   "metadata": {},
   "source": []
  },
  {
   "cell_type": "code",
   "execution_count": 32,
   "metadata": {},
   "outputs": [
    {
     "name": "stdout",
     "output_type": "stream",
     "text": [
      "Please password must contain 1 UpperCase Character\n"
     ]
    }
   ],
   "source": [
    "password = input(\"Enter a PassWord: \")\n",
    "\n",
    "has_upper = False\n",
    "has_lower = False\n",
    "has_digit = False\n",
    "\n",
    "for char in password:\n",
    "    if char.isupper():\n",
    "        has_upper = True\n",
    "    elif char.islower():\n",
    "        has_lower = True\n",
    "    elif char.isdigit():\n",
    "        has_digit = True\n",
    "\n",
    "if len(password) < 8:\n",
    "    print(\"please Password contain atleast 8 or Above Characters long\")\n",
    "elif has_upper:\n",
    "    print(\"Please password must contain 1 UpperCase Character\")\n",
    "elif has_lower:\n",
    "    print(\"Please password must contain 1 LowerCase Character\")\n",
    "elif has_digit:\n",
    "    print(\"Please password must contain 1 Digit Character\")"
   ]
  }
 ],
 "metadata": {
  "kernelspec": {
   "display_name": "Python 3",
   "language": "python",
   "name": "python3"
  },
  "language_info": {
   "codemirror_mode": {
    "name": "ipython",
    "version": 3
   },
   "file_extension": ".py",
   "mimetype": "text/x-python",
   "name": "python",
   "nbconvert_exporter": "python",
   "pygments_lexer": "ipython3",
   "version": "3.13.0"
  }
 },
 "nbformat": 4,
 "nbformat_minor": 2
}

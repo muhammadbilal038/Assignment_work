{
 "cells": [
  {
   "cell_type": "markdown",
   "metadata": {},
   "source": [
    "# Functions Assignment 2"
   ]
  },
  {
   "cell_type": "markdown",
   "metadata": {},
   "source": [
    "# Task1:\n",
    "\n",
    "You need to write a function in python that return all such numbers which are \n",
    "divisible by 7 but are not a multiple of 5, between 2000 and 3200 (both included). \n",
    "Return the obtained numbers in a comma-separated sequence on a single line. "
   ]
  },
  {
   "cell_type": "code",
   "execution_count": 7,
   "metadata": {},
   "outputs": [
    {
     "name": "stdout",
     "output_type": "stream",
     "text": [
      "2030,2065,2100,2135,2170,2205,2240,2275,2310,2345,2380,2415,2450,2485,2520,2555,2590,2625,2660,2695,2730,2765,2800,2835,2870,2905,2940,2975,3010,3045,3080,3115,3150,3185\n"
     ]
    }
   ],
   "source": [
    "def find_num():\n",
    "    result = [str(i) for i in range(2000, 3200)\n",
    "        if i % 7 == 0 and not i % 5 != 0]\n",
    "    return \",\".join(result)\n",
    "\n",
    "output = find_num()\n",
    "print(output)"
   ]
  },
  {
   "cell_type": "markdown",
   "metadata": {},
   "source": [
    "# Task2: \n",
    "You need code a function that calculates and returns the value according to the given formula: \n",
    "\n",
    "P = Square root of [(2 * A * B)/C] \n",
    "\n",
    "Following are the fixed values of A and B: \n",
    "\n",
    "A is 50. \n",
    "\n",
    "B is 30. \n",
    "\n",
    "The values of the literal C should be taken as console input to your program in a comma-separated sequence. \n",
    "\n",
    "Example \n",
    "Let us assume the following comma separated input sequence is given to the program: \n",
    "\n",
    "100,150,180 \n",
    "\n",
    "The output of the program should be: \n",
    "\n",
    "18,22,24 "
   ]
  },
  {
   "cell_type": "code",
   "execution_count": 2,
   "metadata": {},
   "outputs": [
    {
     "name": "stdout",
     "output_type": "stream",
     "text": [
      "Output: 3\n"
     ]
    }
   ],
   "source": [
    "import math\n",
    "\n",
    "def calculate_values(c_values):\n",
    "    A = 50\n",
    "    B = 30\n",
    "    results = []\n",
    "\n",
    "    for C in c_values:\n",
    "        P = math.sqrt((2 * A * B) / C)\n",
    "        results.append(round(P))\n",
    "    return results\n",
    "\n",
    "input_values = input(\"Enter comma-separated values for C: \").split(',')\n",
    "c_values = list(map(int, input_values))\n",
    "output_values = calculate_values(c_values)\n",
    "print(\"Output:\", ','.join(map(str, output_values)))"
   ]
  },
  {
   "cell_type": "markdown",
   "metadata": {},
   "source": [
    "# Task3: \n",
    "You need to write a function that takes a comma separated sequence of words as input and prints the words in a comma-separated sequence after sorting them alphabetically. \n",
    "\n",
    "Suppose the following input is supplied to the program: \n",
    "\n",
    "without,hello,bag,world \n",
    "\n",
    "Then, the output should be: \n",
    "\n",
    "bag,hello,without,world "
   ]
  },
  {
   "cell_type": "code",
   "execution_count": 34,
   "metadata": {},
   "outputs": [
    {
     "name": "stdout",
     "output_type": "stream",
     "text": [
      "bag,hello,without,world \n"
     ]
    }
   ],
   "source": [
    "def sort_words():\n",
    "    input_str = input(\"Enter comma seperated Values: \")\n",
    "\n",
    "    words = input_str.split(\",\")\n",
    "\n",
    "    words.sort()\n",
    "\n",
    "    print(\",\".join(words))\n",
    "sort_words()"
   ]
  },
  {
   "cell_type": "markdown",
   "metadata": {},
   "source": [
    "# Task4:\n",
    "\n",
    "You need to write a program that takes sequence of lines as input and prints the lines after making all characters in the sentence capitalized.\n",
    "\n",
    "Suppose the following input is supplied to the program: \n",
    "\n",
    "Hello world \n",
    "\n",
    "Practice makes perfect \n",
    "\n",
    "Then, the output should be: \n",
    "\n",
    "HELLO WORLD \n",
    "\n",
    "PRACTICE MAKES PERFECT "
   ]
  },
  {
   "cell_type": "code",
   "execution_count": 7,
   "metadata": {},
   "outputs": [
    {
     "name": "stdout",
     "output_type": "stream",
     "text": [
      "ENETRE\n"
     ]
    }
   ],
   "source": [
    "def capitalize_line():\n",
    "    while True:\n",
    "        line = input(\"Enter a line (or press enter to stop)\")\n",
    "        if not line:\n",
    "            break\n",
    "        print(line.upper())\n",
    "capitalize_line()"
   ]
  },
  {
   "cell_type": "markdown",
   "metadata": {},
   "source": [
    "# Task5:\n",
    "\n",
    "You need to write a function that counts the number of vowels in a given sentence as input from console.  \n",
    "\n",
    "Suppose the following input is supplied to the program: \n",
    "\n",
    "Hello world\n",
    "\n",
    "Practice makes perfect\n",
    "\n",
    "Then, the output should be:\n",
    "\n",
    "a appeared 2 times\n",
    "\n",
    "e appeared 5 times\n",
    "\n",
    "i appeared 1 time\n",
    "\n",
    "o appeared 2 times\n",
    "\n",
    "u appeared 0 time\n",
    "\n",
    "PRACTICE MAKES PERFECT"
   ]
  },
  {
   "cell_type": "code",
   "execution_count": 4,
   "metadata": {},
   "outputs": [
    {
     "name": "stdout",
     "output_type": "stream",
     "text": [
      "a appeared 4 times\n",
      "e appeared 2 times\n",
      "i appeared 0 times\n",
      "o appeared 0 times\n",
      "u appeared 0 times\n",
      "THE FAWAD ACADEMY\n"
     ]
    }
   ],
   "source": [
    "def count_vowels(sentence):\n",
    "    vowels = \"aeiou\"\n",
    "    vowel_count = {v: 0 for v in vowels}\n",
    "    for char in sentence.lower():\n",
    "           if char in vowels:\n",
    "            vowel_count[char] += 1\n",
    "    \n",
    "    return vowel_count\n",
    "\n",
    "input_sentence = input(\"Enter a sentence: \")\n",
    "vowel_counts = count_vowels(input_sentence)\n",
    "\n",
    "for vowel, count in vowel_counts.items():\n",
    "    print(f\"{vowel} appeared {count} times\")\n",
    "print(input_sentence.upper())"
   ]
  },
  {
   "cell_type": "markdown",
   "metadata": {},
   "source": [
    "# Task6:\n",
    "\n",
    "You need write a function that traces and makes a list of all such numbers from 1000 to 3000 in which all the digits are even numbers."
   ]
  },
  {
   "cell_type": "code",
   "execution_count": 28,
   "metadata": {},
   "outputs": [
    {
     "name": "stdout",
     "output_type": "stream",
     "text": [
      "Finding numbers from 1000 to 3000 where all digits are even...\n",
      "\n",
      "Numbers with all even digits:\n",
      "[2000, 2002, 2004, 2006, 2008, 2020, 2022, 2024, 2026, 2028, 2040, 2042, 2044, 2046, 2048, 2060, 2062, 2064, 2066, 2068, 2080, 2082, 2084, 2086, 2088, 2200, 2202, 2204, 2206, 2208, 2220, 2222, 2224, 2226, 2228, 2240, 2242, 2244, 2246, 2248, 2260, 2262, 2264, 2266, 2268, 2280, 2282, 2284, 2286, 2288, 2400, 2402, 2404, 2406, 2408, 2420, 2422, 2424, 2426, 2428, 2440, 2442, 2444, 2446, 2448, 2460, 2462, 2464, 2466, 2468, 2480, 2482, 2484, 2486, 2488, 2600, 2602, 2604, 2606, 2608, 2620, 2622, 2624, 2626, 2628, 2640, 2642, 2644, 2646, 2648, 2660, 2662, 2664, 2666, 2668, 2680, 2682, 2684, 2686, 2688, 2800, 2802, 2804, 2806, 2808, 2820, 2822, 2824, 2826, 2828, 2840, 2842, 2844, 2846, 2848, 2860, 2862, 2864, 2866, 2868, 2880, 2882, 2884, 2886, 2888]\n"
     ]
    }
   ],
   "source": [
    "def even_numbers():\n",
    "    print(\"Finding numbers from 1000 to 3000 where all digits are even...\")\n",
    "    even_num = []\n",
    "    for number in range(1000, 3001):\n",
    "        if all(int(digit) % 2 == 0 for digit in str(number)):\n",
    "            even_num.append(number)\n",
    "    print(\"\\nNumbers with all even digits:\")\n",
    "    print(even_num)\n",
    "\n",
    "even_numbers()"
   ]
  },
  {
   "cell_type": "markdown",
   "metadata": {},
   "source": [
    "# Task7:\n",
    " \n",
    "You need to write a code which accepts a sequence of comma separated 4 digit binary numbers as its input and then check whether they are divisible by 5 or not.The numbers that are divisible by 5 are to be printed in a comma separated \n",
    "sequence. \n",
    "\n",
    "Example:\n",
    "\n",
    "0100,0011,1010,1001 \n",
    "\n",
    "Then the output should be: \n",
    "\n",
    "1010 \n",
    "\n",
    "Reference: https://www.datacamp.com/.../python-data-type-conversion"
   ]
  },
  {
   "cell_type": "code",
   "execution_count": 6,
   "metadata": {},
   "outputs": [
    {
     "name": "stdout",
     "output_type": "stream",
     "text": [
      "1010\n"
     ]
    }
   ],
   "source": [
    "def check_divisibility_by_5(binary_numbers):\n",
    "    divisible_by_5 = []\n",
    "    \n",
    "    for binary in binary_numbers:\n",
    "        # Convert binary to decimal\n",
    "        decimal_value = int(binary, 2)\n",
    "        if decimal_value % 5 == 0:\n",
    "            divisible_by_5.append(binary)\n",
    "    \n",
    "    return divisible_by_5\n",
    "input_sequence = input(\"Enter comma-separated 4-digit binary numbers: \").split(',')\n",
    "result = check_divisibility_by_5(input_sequence)\n",
    "print(\",\".join(result))"
   ]
  },
  {
   "cell_type": "markdown",
   "metadata": {},
   "source": [
    "# Task8:\n",
    "\n",
    "Write a program that accepts a sentence and calculate the number of letters and \n",
    "digits. \n",
    "Suppose the following input is supplied to the program: \n",
    "hello world! 123 \n",
    "Then, the output should be: \n",
    "LETTERS 10 \n",
    "DIGITS 3"
   ]
  },
  {
   "cell_type": "code",
   "execution_count": 7,
   "metadata": {},
   "outputs": [
    {
     "name": "stdout",
     "output_type": "stream",
     "text": [
      "LETTERS 13\n",
      "DIGITS 0\n"
     ]
    }
   ],
   "source": [
    "def count_letters_and_digits(sentence):\n",
    "    letters = sum(char.isalpha() for char in sentence)  # Count alphabetic characters\n",
    "    digits = sum(char.isdigit() for char in sentence)  # Count numeric characters\n",
    "    return letters, digits\n",
    "\n",
    "input_sentence = input(\"Enter a sentence: \")\n",
    "letters, digits = count_letters_and_digits(input_sentence)\n",
    "print(f\"LETTERS {letters}\")\n",
    "print(f\"DIGITS {digits}\")"
   ]
  },
  {
   "cell_type": "code",
   "execution_count": null,
   "metadata": {},
   "outputs": [],
   "source": []
  }
 ],
 "metadata": {
  "kernelspec": {
   "display_name": "Python 3",
   "language": "python",
   "name": "python3"
  },
  "language_info": {
   "codemirror_mode": {
    "name": "ipython",
    "version": 3
   },
   "file_extension": ".py",
   "mimetype": "text/x-python",
   "name": "python",
   "nbconvert_exporter": "python",
   "pygments_lexer": "ipython3",
   "version": "3.13.0"
  }
 },
 "nbformat": 4,
 "nbformat_minor": 2
}

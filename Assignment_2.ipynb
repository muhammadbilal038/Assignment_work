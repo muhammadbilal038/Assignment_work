{
 "cells": [
  {
   "cell_type": "markdown",
   "metadata": {
    "vscode": {
     "languageId": "plaintext"
    }
   },
   "source": [
    "Questions: \n",
    "1) Area of a Rectangle: \n",
    "Write a Python program to calculate the area of a rectangle. Use the formula: \n",
    "\n",
    "𝐴𝒓𝒆𝒂=𝒍𝒆𝒏𝒈𝒕𝒉 × 𝒘𝒊𝒅𝒕𝒉 \n",
    "\n",
    "Take length and width as inputs from the user."
   ]
  },
  {
   "cell_type": "code",
   "execution_count": 3,
   "metadata": {},
   "outputs": [],
   "source": [
    "length = float(input(\"Enter ther length of the rectangle: \"))\n",
    "width = float(input(\"Enter the width of the rectangle: \"))"
   ]
  },
  {
   "cell_type": "code",
   "execution_count": 4,
   "metadata": {},
   "outputs": [
    {
     "name": "stdout",
     "output_type": "stream",
     "text": [
      "The Area of the rectangle is: 21.0 square units\n"
     ]
    }
   ],
   "source": [
    "area = length * width\n",
    "print(f\"The Area of the rectangle is: {area} square units\")"
   ]
  },
  {
   "cell_type": "markdown",
   "metadata": {},
   "source": [
    "2)  Circumference of a Circle: \n",
    "\n",
    "Write a Python program to calculate the circumference of a circle. Use the formula:\n",
    "\n",
    "𝑪𝒊𝒓𝒄𝒖𝒎𝒇𝒆𝒓𝒆𝒏𝒄𝒆=𝟐𝝅𝒓 \n",
    "\n",
    "Take the radius r as input from the user."
   ]
  },
  {
   "cell_type": "code",
   "execution_count": 15,
   "metadata": {},
   "outputs": [],
   "source": [
    "r = float(input(\"Enter the radius of the circumference of a circle : \"))\n",
    "pi = 3.142"
   ]
  },
  {
   "cell_type": "code",
   "execution_count": 16,
   "metadata": {},
   "outputs": [
    {
     "name": "stdout",
     "output_type": "stream",
     "text": [
      "The Circumference of a circle is 6.284\n"
     ]
    }
   ],
   "source": [
    "circum = 2*pi*r\n",
    "print(f\"The Circumference of a circle is {circum}\")"
   ]
  },
  {
   "cell_type": "markdown",
   "metadata": {},
   "source": [
    "3) Simple Interest: \n",
    "\n",
    "Write a Python program to calculate the simple interest. Use the formula: \n",
    "\n",
    "𝑺𝒊𝒎𝒑𝒍𝒆 𝑰𝒏𝒕𝒆𝒓𝒆𝒔𝒕=𝑷𝒓𝒊𝒏𝒄𝒊𝒑𝒂𝒍 × 𝑹𝒂𝒕𝒆 × 𝑻𝒊𝒎𝒆  \n",
    "\n",
    "Take Principal, Rate, and Time as inputs from the user."
   ]
  },
  {
   "cell_type": "code",
   "execution_count": 17,
   "metadata": {},
   "outputs": [],
   "source": [
    "princ = float(input(\"Enter the Principal of simple interest: \"))\n",
    "rate = float(input(\"Enter the Rate of simple interest: \"))\n",
    "time = float(input(\"Enter the Time of simple interest: \"))"
   ]
  },
  {
   "cell_type": "code",
   "execution_count": 18,
   "metadata": {},
   "outputs": [
    {
     "name": "stdout",
     "output_type": "stream",
     "text": [
      "The Simple Interest is 24.0\n"
     ]
    }
   ],
   "source": [
    "sim_int = princ*rate*time\n",
    "print(f\"The Simple Interest is {sim_int}\")"
   ]
  },
  {
   "cell_type": "markdown",
   "metadata": {},
   "source": [
    "4)  Speed of an Object: \n",
    "\n",
    "Write a Python program to calculate the speed of an object. Use the formula:  \n",
    "\n",
    "𝑆𝒑𝒆𝒆𝒅     =      𝑫𝒊𝒔𝒕𝒂𝒏𝒄𝒆 /    𝑻𝒊𝒎𝒆  \n",
    "\n",
    "Take Distance and Time as inputs from the user."
   ]
  },
  {
   "cell_type": "code",
   "execution_count": 19,
   "metadata": {},
   "outputs": [],
   "source": [
    "dist = float(input(\"Enter the Distance of speed: \"))\n",
    "time = float(input(\"Enter the Time of speed: \"))"
   ]
  },
  {
   "cell_type": "code",
   "execution_count": 20,
   "metadata": {},
   "outputs": [
    {
     "name": "stdout",
     "output_type": "stream",
     "text": [
      "The speed of an object is 0.8333333333333334\n"
     ]
    }
   ],
   "source": [
    "speed = dist/time\n",
    "print(f\"The speed of an object is {speed}\")"
   ]
  },
  {
   "cell_type": "markdown",
   "metadata": {},
   "source": [
    "5)  BMI Calculator: \n",
    "\n",
    "Write a Python program to calculate the Body Mass Index (BMI). Use the formula:  \n",
    "\n",
    "BMI = ௐ௘௜௚௛௧(௄௚)\n",
    "(ு௘௜௚௛௧).మ\n",
    "\n",
    "Take Weight (in kilograms) and Height (in meters) as inputs from the user."
   ]
  },
  {
   "cell_type": "code",
   "execution_count": 21,
   "metadata": {},
   "outputs": [],
   "source": [
    "weight = float(input(\"Enter your weight in kilograms: \"))\n",
    "height = float(input(\"Enter your height in meters: \"))"
   ]
  },
  {
   "cell_type": "code",
   "execution_count": 22,
   "metadata": {},
   "outputs": [
    {
     "name": "stdout",
     "output_type": "stream",
     "text": [
      "Your BMI is: 0.11\n"
     ]
    }
   ],
   "source": [
    "bmi = weight / (height ** 2)\n",
    "print(f\"Your BMI is: {bmi:.2f}\")"
   ]
  },
  {
   "cell_type": "markdown",
   "metadata": {},
   "source": [
    "6)  Force Using Newton's Second Law: \n",
    "\n",
    "Write a Python program to calculate the force on an object. Use the formula: \n",
    " \n",
    "Take m (mass in kilograms) and a (acceleration in meters/second²) as inputs from the user."
   ]
  },
  {
   "cell_type": "code",
   "execution_count": 23,
   "metadata": {},
   "outputs": [],
   "source": [
    "m = float(input(\"Enter the Mass in kilograms is: \"))\n",
    "a = float(input(\"Enter the Acceleration in Meter/sec*2 is: \"))"
   ]
  },
  {
   "cell_type": "code",
   "execution_count": 24,
   "metadata": {},
   "outputs": [
    {
     "name": "stdout",
     "output_type": "stream",
     "text": [
      "The Force on a Object is 9.0: \n"
     ]
    }
   ],
   "source": [
    "f = m*a\n",
    "print(f\"The Force on a Object is {f}: \")"
   ]
  },
  {
   "cell_type": "markdown",
   "metadata": {},
   "source": [
    "7)  Compound Interest:\n",
    "\n",
    "Write a Python program to calculate compound interest. Use the formula:  \n",
    "\n",
    "𝒓\n",
    "\n",
    "𝒏\n",
    "\n",
    "n-t\n",
    "\n",
    "Where: \n",
    "\n",
    "A= total amount \n",
    "\n",
    "P = principal amount \n",
    "\n",
    "r = annual interest rate (decimal) \n",
    "\n",
    "n = number of times interest is compounded per year \n",
    "\n",
    "t = time in years \n",
    "\n",
    "Take P, r, n, and t as inputs from the user."
   ]
  },
  {
   "cell_type": "code",
   "execution_count": 25,
   "metadata": {},
   "outputs": [],
   "source": [
    "p = float(input(\"Enter the principal amount : \"))\n",
    "r = float(input(\"Enter the annual interest rate : \"))\n",
    "n = float(input(\"Enter the number of times interest : \"))\n",
    "t = float(input(\"Enter the times in years : \"))"
   ]
  },
  {
   "cell_type": "markdown",
   "metadata": {},
   "source": [
    "8)  Perimeter of a Triangle: \n",
    "\n",
    "Write a Python program to calculate the perimeter of a triangle. Use the formula:  \n",
    "\n",
    "𝑷𝒆𝒓𝒊𝒎𝒆𝒕𝒆𝒓 =𝒂+𝒃+𝒄 \n",
    " \n",
    "Take a, b, and c (lengths of the three sides) as inputs from the user."
   ]
  },
  {
   "cell_type": "code",
   "execution_count": 26,
   "metadata": {},
   "outputs": [],
   "source": [
    "a = float(input(\"Enter the a of the perimeter is: \"))\n",
    "b = float(input(\"Enter the b of the perimeter is: \"))\n",
    "c = float(input(\"Enter the c of the perimeter is: \"))"
   ]
  },
  {
   "cell_type": "code",
   "execution_count": 27,
   "metadata": {},
   "outputs": [
    {
     "name": "stdout",
     "output_type": "stream",
     "text": [
      "The perimeter of a triangle is 14.0\n"
     ]
    }
   ],
   "source": [
    "peri = a+b+c\n",
    "print(f\"The perimeter of a triangle is {peri}\")"
   ]
  },
  {
   "cell_type": "markdown",
   "metadata": {},
   "source": [
    "11) Quadratic Equation Roots: \n",
    "\n",
    "Write a Python program to find the roots of a quadratic equation. Use the formula: \n",
    "\n",
    "X =  ି௕±√௕మିସ௔௖ଶ௔\n",
    "  \n",
    "Take a, b, and c as inputs from the user."
   ]
  },
  {
   "cell_type": "markdown",
   "metadata": {},
   "source": [
    "12) Temperature Conversion: \n",
    "\n",
    "Write a Python program to convert a temperature from Celsius to Fahrenheit. Use the \n",
    "\n",
    "formula:\n",
    "Take C (temperature in Celsius) as input from the user."
   ]
  },
  {
   "cell_type": "code",
   "execution_count": 28,
   "metadata": {},
   "outputs": [],
   "source": [
    "c = float(input(\"Enter the Temprature in Celsius: \"))\n",
    "fah = (c * 9/5) + 32"
   ]
  },
  {
   "cell_type": "code",
   "execution_count": 29,
   "metadata": {},
   "outputs": [
    {
     "name": "stdout",
     "output_type": "stream",
     "text": [
      "The Temprature from Celsius to Farhrenheit is 35.6 \n"
     ]
    }
   ],
   "source": [
    "print(f\"The Temprature from Celsius to Farhrenheit is {fah} \")"
   ]
  },
  {
   "cell_type": "markdown",
   "metadata": {},
   "source": [
    "13) Gravitational Force:\n",
    "\n",
    "Write a Python program to calculate the gravitational force between two objects. Use the formula \n",
    "\n",
    "𝑭=𝑮𝒎𝟏∗ 𝒎𝟐\n",
    "\n",
    "𝒓𝟐  \n",
    "\n",
    "m1, m2 are the masses of the objects \n",
    "\n",
    "r = distance between the centers of the objects \n",
    "\n",
    "Take m1, m2 and r as inputs from the user."
   ]
  },
  {
   "cell_type": "code",
   "execution_count": 30,
   "metadata": {},
   "outputs": [],
   "source": [
    "g = 9.8\n",
    "m1 = float(input(\"Enter the value of M1 is: \"))\n",
    "m2 = float(input(\"Enter the value of M2 is: \"))"
   ]
  },
  {
   "cell_type": "code",
   "execution_count": 31,
   "metadata": {},
   "outputs": [
    {
     "name": "stdout",
     "output_type": "stream",
     "text": [
      "The Gravitational force between two objects is 33.400000000000006\n"
     ]
    }
   ],
   "source": [
    "f = g*m1+m2\n",
    "print(f\"The Gravitational force between two objects is {f}\")"
   ]
  },
  {
   "cell_type": "markdown",
   "metadata": {},
   "source": [
    "14) Volume of a Cylinder:\n",
    "\n",
    "Write a Python program to calculate the volume of a cylinder. Use the formula:  \n",
    "\n",
    "𝑽𝒐𝒍𝒖𝒎𝒆= 𝝅𝒓𝟐𝒉 \n",
    "\n",
    "Take radius(r) and height(h) as inputs from the user"
   ]
  },
  {
   "cell_type": "code",
   "execution_count": 32,
   "metadata": {},
   "outputs": [],
   "source": [
    "r = float(input(\"Enter the radius of the volume of cylinder is: \"))\n",
    "h = float(input(\"Enter the height of the volume of cylinder is: \"))"
   ]
  },
  {
   "cell_type": "code",
   "execution_count": 33,
   "metadata": {},
   "outputs": [
    {
     "name": "stdout",
     "output_type": "stream",
     "text": [
      "The Volume of \n"
     ]
    }
   ],
   "source": [
    "V_o_c = pi*r*2*h\n",
    "print(f\"The Volume of \")"
   ]
  },
  {
   "cell_type": "markdown",
   "metadata": {},
   "source": [
    "15) Pressure: \n",
    "Write a Python program to calculate the pressure exerted by a force on a surface. Use \n",
    "\n",
    "the formula: \n",
    "\n",
    "𝑷= 𝑭\n",
    "\n",
    "𝑨 \n",
    "\n",
    "P = pressure \n",
    "\n",
    "F = force \n",
    "\n",
    "A = area \n",
    "\n",
    "Take F(force) and A(area) as inputs from the user."
   ]
  },
  {
   "cell_type": "code",
   "execution_count": 34,
   "metadata": {},
   "outputs": [],
   "source": [
    "f = float(input(\"Enter the force on a surface: \"))\n",
    "a = float(input(\"Enter the area on a surface: \"))"
   ]
  },
  {
   "cell_type": "code",
   "execution_count": 35,
   "metadata": {},
   "outputs": [
    {
     "name": "stdout",
     "output_type": "stream",
     "text": [
      "The pressure exerted ba a force on a surface is 56.0\n"
     ]
    }
   ],
   "source": [
    "p = f*a\n",
    "print(f\"The pressure exerted ba a force on a surface is {p}\")"
   ]
  },
  {
   "cell_type": "markdown",
   "metadata": {},
   "source": [
    "16) Electric Power: \n",
    "Write a Python program to calculate the electric power consumed. Use the formula: \n",
    "\n",
    "where: \n",
    "\n",
    "P = power \n",
    "\n",
    "V = voltage \n",
    "\n",
    "I = current \n",
    "\n",
    "Take V(voltage) and I(current) as inputs from the user."
   ]
  },
  {
   "cell_type": "code",
   "execution_count": 36,
   "metadata": {},
   "outputs": [],
   "source": [
    "v = float(input(\"Enter the voltage: \"))\n",
    "i = float(input(\"Enter the current: \"))"
   ]
  },
  {
   "cell_type": "code",
   "execution_count": 37,
   "metadata": {},
   "outputs": [
    {
     "name": "stdout",
     "output_type": "stream",
     "text": [
      "The Electric Power consumed is 81.0\n"
     ]
    }
   ],
   "source": [
    "p = i*v\n",
    "print(f\"The Electric Power consumed is {p}\")"
   ]
  },
  {
   "cell_type": "markdown",
   "metadata": {},
   "source": [
    "17) Perimeter of a Circle (Circumference): \n",
    "Write a Python program to calculate the perimeter (circumference) of a circle. Use the \n",
    "formula:  \n",
    " \n",
    "C=2πr\n",
    "\n",
    "Take r (radius) as input from the user. "
   ]
  },
  {
   "cell_type": "code",
   "execution_count": 38,
   "metadata": {},
   "outputs": [],
   "source": [
    "pi = 3.142\n",
    "r = float(input(\"Enter the perimeter of a circle: \"))"
   ]
  },
  {
   "cell_type": "code",
   "execution_count": 39,
   "metadata": {},
   "outputs": [
    {
     "name": "stdout",
     "output_type": "stream",
     "text": [
      "The Perimeter of a Circle is 50.272\n"
     ]
    }
   ],
   "source": [
    "c = 2*pi*r\n",
    "print(f\"The Perimeter of a Circle is {c}\")"
   ]
  },
  {
   "cell_type": "markdown",
   "metadata": {},
   "source": [
    "18) Future Value in Savings:\n",
    "Write a Python program to calculate the future value of an investment. Use the formula:  \n",
    "𝐹𝑉 =𝑃𝑉(1+𝑟)௧ \n",
    "\n",
    "where: \n",
    "\n",
    "o  FV= future value \n",
    "\n",
    "o  PV= present value \n",
    "\n",
    "o  r= annual interest rate (as a decimal) \n",
    "\n",
    "o  t= time in years \n",
    "\n",
    "Take PV, r, and t as inputs from the user."
   ]
  },
  {
   "cell_type": "code",
   "execution_count": 40,
   "metadata": {},
   "outputs": [],
   "source": [
    "pv = float(input(\"Enter the value of present value: \"))\n",
    "r = float(input(\"Enter the value of annual interest rate: \"))\n",
    "t = float(input(\"Enter the value of time in years: \"))"
   ]
  },
  {
   "cell_type": "code",
   "execution_count": 41,
   "metadata": {},
   "outputs": [
    {
     "name": "stdout",
     "output_type": "stream",
     "text": [
      "The Future Value of an investment is 117649.0\n"
     ]
    }
   ],
   "source": [
    "fv = pv*(1+r)**t\n",
    "print(f\"The Future Value of an investment is {fv}\")"
   ]
  },
  {
   "cell_type": "markdown",
   "metadata": {},
   "source": []
  },
  {
   "cell_type": "markdown",
   "metadata": {},
   "source": [
    "19) Work Done by a Force: \n",
    "Write a Python program to calculate the work done by a force. Use the formula:  \n",
    "\n",
    "where: \n",
    "\n",
    "W = work done \n",
    "\n",
    "f= force \n",
    "\n",
    "d = distance \n",
    "\n",
    "theta = angle between force and direction of movement (in degrees) \n",
    "\n",
    "Take f, d, and θ as inputs from the user."
   ]
  },
  {
   "cell_type": "markdown",
   "metadata": {},
   "source": []
  },
  {
   "cell_type": "code",
   "execution_count": 42,
   "metadata": {},
   "outputs": [],
   "source": [
    "f = float(input(\"Enter the force: \"))\n",
    "d = float(input(\"Enter the distance: \"))"
   ]
  },
  {
   "cell_type": "code",
   "execution_count": 43,
   "metadata": {},
   "outputs": [
    {
     "name": "stdout",
     "output_type": "stream",
     "text": [
      "The workdone by a force is 12.0\n"
     ]
    }
   ],
   "source": [
    "w = f*d\n",
    "print(f\"The workdone by a force is {w}\")"
   ]
  },
  {
   "cell_type": "markdown",
   "metadata": {},
   "source": [
    " \n",
    "20) Heat Transfer: \n",
    "Write a Python program to calculate the amount of heat transferred. Use the formula:  \n",
    "\n",
    "𝑄 =𝑚𝑐 (∆T) \n",
    "\n",
    "where: \n",
    "\n",
    "Q= heat transfer \n",
    "\n",
    "m = mass \n",
    "\n",
    "c = specific heat capacity \n",
    "\n",
    "ΔT \n",
    "Take m, c, T as inputs from the user. "
   ]
  },
  {
   "cell_type": "code",
   "execution_count": 44,
   "metadata": {},
   "outputs": [],
   "source": [
    "m = float(input(\"Enter the mass: \"))\n",
    "c = float(input(\"Enter the specific heat capacity: \"))\n",
    "t = float(input(\"Enter the temprature: \"))"
   ]
  },
  {
   "cell_type": "code",
   "execution_count": 45,
   "metadata": {},
   "outputs": [
    {
     "name": "stdout",
     "output_type": "stream",
     "text": [
      "The Amount of Heat Transferred is 4.0\n"
     ]
    }
   ],
   "source": [
    "q = m*c*(t)\n",
    "print(f\"The Amount of Heat Transferred is {q}\")"
   ]
  }
 ],
 "metadata": {
  "kernelspec": {
   "display_name": "Python 3",
   "language": "python",
   "name": "python3"
  },
  "language_info": {
   "codemirror_mode": {
    "name": "ipython",
    "version": 3
   },
   "file_extension": ".py",
   "mimetype": "text/x-python",
   "name": "python",
   "nbconvert_exporter": "python",
   "pygments_lexer": "ipython3",
   "version": "3.13.0"
  }
 },
 "nbformat": 4,
 "nbformat_minor": 2
}
